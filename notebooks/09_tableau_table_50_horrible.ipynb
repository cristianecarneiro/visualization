{
 "cells": [
  {
   "cell_type": "markdown",
   "id": "5c874fb5",
   "metadata": {},
   "source": [
    "## Import libraries"
   ]
  },
  {
   "cell_type": "code",
   "execution_count": 6,
   "id": "ddcd2367",
   "metadata": {},
   "outputs": [],
   "source": [
    "import pandas as pd\n",
    "import numpy as np\n",
    "\n",
    "import warnings\n",
    "warnings.filterwarnings('ignore')\n",
    "\n",
    "pd.set_option('display.max_columns', None)  # me muestre todas las columnas\n",
    "#pd.set_option('display.max_rows', None)  # me muestre todas las filas"
   ]
  },
  {
   "cell_type": "markdown",
   "id": "6894b4ed",
   "metadata": {},
   "source": [
    "## Import files"
   ]
  },
  {
   "cell_type": "code",
   "execution_count": 7,
   "id": "27e5128e",
   "metadata": {},
   "outputs": [
    {
     "data": {
      "text/html": [
       "<div>\n",
       "<style scoped>\n",
       "    .dataframe tbody tr th:only-of-type {\n",
       "        vertical-align: middle;\n",
       "    }\n",
       "\n",
       "    .dataframe tbody tr th {\n",
       "        vertical-align: top;\n",
       "    }\n",
       "\n",
       "    .dataframe thead th {\n",
       "        text-align: right;\n",
       "    }\n",
       "</style>\n",
       "<table border=\"1\" class=\"dataframe\">\n",
       "  <thead>\n",
       "    <tr style=\"text-align: right;\">\n",
       "      <th></th>\n",
       "      <th>rshorriblerankingorder</th>\n",
       "      <th>rsalbum</th>\n",
       "      <th>rsartist</th>\n",
       "      <th>rsrationale</th>\n",
       "      <th>rsyear</th>\n",
       "    </tr>\n",
       "  </thead>\n",
       "  <tbody>\n",
       "    <tr>\n",
       "      <th>0</th>\n",
       "      <td>50</td>\n",
       "      <td>Its Hard</td>\n",
       "      <td>The Who</td>\n",
       "      <td>In the early Eighties, Pete Townshend was jugg...</td>\n",
       "      <td>1982</td>\n",
       "    </tr>\n",
       "    <tr>\n",
       "      <th>1</th>\n",
       "      <td>49</td>\n",
       "      <td>The Bridge</td>\n",
       "      <td>Billy Joel</td>\n",
       "      <td>Billy Joel had nearly a solid decade of succes...</td>\n",
       "      <td>1986</td>\n",
       "    </tr>\n",
       "  </tbody>\n",
       "</table>\n",
       "</div>"
      ],
      "text/plain": [
       "   rshorriblerankingorder     rsalbum    rsartist  \\\n",
       "0                      50    Its Hard     The Who   \n",
       "1                      49  The Bridge  Billy Joel   \n",
       "\n",
       "                                         rsrationale  rsyear  \n",
       "0  In the early Eighties, Pete Townshend was jugg...    1982  \n",
       "1  Billy Joel had nearly a solid decade of succes...    1986  "
      ]
     },
     "execution_count": 7,
     "metadata": {},
     "output_type": "execute_result"
    }
   ],
   "source": [
    "horrible50 = pd.read_csv('../data/clean/WS_50horriblealbums_clean.csv', encoding='latin1')\n",
    "horrible50.head(2)"
   ]
  },
  {
   "cell_type": "code",
   "execution_count": 10,
   "id": "ebbf1b2a",
   "metadata": {},
   "outputs": [
    {
     "data": {
      "text/plain": [
       "Index(['rshorriblerankingorder', 'albumnamers', 'rsartist', 'rsrationale',\n",
       "       'rsyear'],\n",
       "      dtype='object')"
      ]
     },
     "execution_count": 10,
     "metadata": {},
     "output_type": "execute_result"
    }
   ],
   "source": [
    "horrible50.rename(columns={'rsalbum': 'albumnamers'}, inplace=True)\n",
    "horrible50.columns"
   ]
  },
  {
   "cell_type": "code",
   "execution_count": 11,
   "id": "13cd168a",
   "metadata": {},
   "outputs": [
    {
     "data": {
      "text/html": [
       "<div>\n",
       "<style scoped>\n",
       "    .dataframe tbody tr th:only-of-type {\n",
       "        vertical-align: middle;\n",
       "    }\n",
       "\n",
       "    .dataframe tbody tr th {\n",
       "        vertical-align: top;\n",
       "    }\n",
       "\n",
       "    .dataframe thead th {\n",
       "        text-align: right;\n",
       "    }\n",
       "</style>\n",
       "<table border=\"1\" class=\"dataframe\">\n",
       "  <thead>\n",
       "    <tr style=\"text-align: right;\">\n",
       "      <th></th>\n",
       "      <th>albumnamers</th>\n",
       "      <th>albumidspotify</th>\n",
       "      <th>albumnamespotify</th>\n",
       "      <th>artistnamespotify</th>\n",
       "      <th>artistidspotify</th>\n",
       "      <th>releasedate</th>\n",
       "      <th>totaltracks</th>\n",
       "    </tr>\n",
       "  </thead>\n",
       "  <tbody>\n",
       "    <tr>\n",
       "      <th>0</th>\n",
       "      <td>Sgt. Pepper's Lonely Hearts Club Band</td>\n",
       "      <td>6QaVfG1pHYl1z15ZxkvVDW</td>\n",
       "      <td>Sgt. Pepper's Lonely Hearts Club Band (Remaste...</td>\n",
       "      <td>The Beatles</td>\n",
       "      <td>3WrFJ7ztbogyGnTHbHJFl2</td>\n",
       "      <td>1967-06-01</td>\n",
       "      <td>13.0</td>\n",
       "    </tr>\n",
       "    <tr>\n",
       "      <th>1</th>\n",
       "      <td>Pet Sounds</td>\n",
       "      <td>6GphKx2QAPRoVGWE9D7ou8</td>\n",
       "      <td>Pet Sounds (Original Mono &amp; Stereo Mix)</td>\n",
       "      <td>The Beach Boys</td>\n",
       "      <td>3oDbviiivRWhXwIE8hxkVV</td>\n",
       "      <td>1966-06-16</td>\n",
       "      <td>27.0</td>\n",
       "    </tr>\n",
       "    <tr>\n",
       "      <th>2</th>\n",
       "      <td>Revolver</td>\n",
       "      <td>3PRoXYsngSwjEQWR5PsHWR</td>\n",
       "      <td>Revolver (Remastered)</td>\n",
       "      <td>The Beatles</td>\n",
       "      <td>3WrFJ7ztbogyGnTHbHJFl2</td>\n",
       "      <td>1966-08-05</td>\n",
       "      <td>14.0</td>\n",
       "    </tr>\n",
       "  </tbody>\n",
       "</table>\n",
       "</div>"
      ],
      "text/plain": [
       "                             albumnamers          albumidspotify  \\\n",
       "0  Sgt. Pepper's Lonely Hearts Club Band  6QaVfG1pHYl1z15ZxkvVDW   \n",
       "1                             Pet Sounds  6GphKx2QAPRoVGWE9D7ou8   \n",
       "2                               Revolver  3PRoXYsngSwjEQWR5PsHWR   \n",
       "\n",
       "                                    albumnamespotify artistnamespotify  \\\n",
       "0  Sgt. Pepper's Lonely Hearts Club Band (Remaste...       The Beatles   \n",
       "1            Pet Sounds (Original Mono & Stereo Mix)    The Beach Boys   \n",
       "2                              Revolver (Remastered)       The Beatles   \n",
       "\n",
       "          artistidspotify releasedate  totaltracks  \n",
       "0  3WrFJ7ztbogyGnTHbHJFl2  1967-06-01         13.0  \n",
       "1  3oDbviiivRWhXwIE8hxkVV  1966-06-16         27.0  \n",
       "2  3WrFJ7ztbogyGnTHbHJFl2  1966-08-05         14.0  "
      ]
     },
     "execution_count": 11,
     "metadata": {},
     "output_type": "execute_result"
    }
   ],
   "source": [
    "spotifyalbums = pd.read_csv('../data/clean/api_albums_clean.csv', encoding='latin1')\n",
    "spotifyalbums.head(3)"
   ]
  },
  {
   "cell_type": "markdown",
   "id": "ee464e6f",
   "metadata": {},
   "source": [
    "## Merge tables"
   ]
  },
  {
   "cell_type": "code",
   "execution_count": 12,
   "id": "c466b4e2",
   "metadata": {},
   "outputs": [],
   "source": [
    "sqltable_horrible50 = pd.merge(horrible50, spotifyalbums[['albumnamers', 'albumidspotify']], how='left', on='albumnamers')"
   ]
  },
  {
   "cell_type": "code",
   "execution_count": 13,
   "id": "bb565572",
   "metadata": {},
   "outputs": [
    {
     "data": {
      "text/html": [
       "<div>\n",
       "<style scoped>\n",
       "    .dataframe tbody tr th:only-of-type {\n",
       "        vertical-align: middle;\n",
       "    }\n",
       "\n",
       "    .dataframe tbody tr th {\n",
       "        vertical-align: top;\n",
       "    }\n",
       "\n",
       "    .dataframe thead th {\n",
       "        text-align: right;\n",
       "    }\n",
       "</style>\n",
       "<table border=\"1\" class=\"dataframe\">\n",
       "  <thead>\n",
       "    <tr style=\"text-align: right;\">\n",
       "      <th></th>\n",
       "      <th>rshorriblerankingorder</th>\n",
       "      <th>albumnamers</th>\n",
       "      <th>rsartist</th>\n",
       "      <th>rsrationale</th>\n",
       "      <th>rsyear</th>\n",
       "      <th>albumidspotify</th>\n",
       "    </tr>\n",
       "  </thead>\n",
       "  <tbody>\n",
       "    <tr>\n",
       "      <th>0</th>\n",
       "      <td>50</td>\n",
       "      <td>Its Hard</td>\n",
       "      <td>The Who</td>\n",
       "      <td>In the early Eighties, Pete Townshend was jugg...</td>\n",
       "      <td>1982</td>\n",
       "      <td>46rjSfrOaPBPX8npn50l0A</td>\n",
       "    </tr>\n",
       "    <tr>\n",
       "      <th>1</th>\n",
       "      <td>49</td>\n",
       "      <td>The Bridge</td>\n",
       "      <td>Billy Joel</td>\n",
       "      <td>Billy Joel had nearly a solid decade of succes...</td>\n",
       "      <td>1986</td>\n",
       "      <td>2fRxSC6FtiAkhEDVZr2seH</td>\n",
       "    </tr>\n",
       "  </tbody>\n",
       "</table>\n",
       "</div>"
      ],
      "text/plain": [
       "   rshorriblerankingorder albumnamers    rsartist  \\\n",
       "0                      50    Its Hard     The Who   \n",
       "1                      49  The Bridge  Billy Joel   \n",
       "\n",
       "                                         rsrationale  rsyear  \\\n",
       "0  In the early Eighties, Pete Townshend was jugg...    1982   \n",
       "1  Billy Joel had nearly a solid decade of succes...    1986   \n",
       "\n",
       "           albumidspotify  \n",
       "0  46rjSfrOaPBPX8npn50l0A  \n",
       "1  2fRxSC6FtiAkhEDVZr2seH  "
      ]
     },
     "execution_count": 13,
     "metadata": {},
     "output_type": "execute_result"
    }
   ],
   "source": [
    "sqltable_horrible50.head(2)"
   ]
  },
  {
   "cell_type": "code",
   "execution_count": 14,
   "id": "46d2df57",
   "metadata": {},
   "outputs": [
    {
     "data": {
      "text/plain": [
       "(50, 6)"
      ]
     },
     "execution_count": 14,
     "metadata": {},
     "output_type": "execute_result"
    }
   ],
   "source": [
    "sqltable_horrible50.shape"
   ]
  },
  {
   "cell_type": "markdown",
   "id": "27d551d5",
   "metadata": {},
   "source": [
    "## Clean NAs and duplicates"
   ]
  },
  {
   "cell_type": "code",
   "execution_count": 15,
   "id": "307e1a9f",
   "metadata": {},
   "outputs": [],
   "source": [
    "#clean NAs (some albums available in the RS DB were not found in Spotify)\n",
    "sqltable_horrible50.dropna(inplace=True)"
   ]
  },
  {
   "cell_type": "code",
   "execution_count": 16,
   "id": "cee06ce0",
   "metadata": {},
   "outputs": [
    {
     "data": {
      "text/plain": [
       "(36, 6)"
      ]
     },
     "execution_count": 16,
     "metadata": {},
     "output_type": "execute_result"
    }
   ],
   "source": [
    "sqltable_horrible50.shape"
   ]
  },
  {
   "cell_type": "code",
   "execution_count": 17,
   "id": "f5a7803a",
   "metadata": {},
   "outputs": [
    {
     "data": {
      "text/plain": [
       "False"
      ]
     },
     "execution_count": 17,
     "metadata": {},
     "output_type": "execute_result"
    }
   ],
   "source": [
    "sqltable_horrible50.duplicated().any()"
   ]
  },
  {
   "cell_type": "markdown",
   "id": "93a125b7",
   "metadata": {},
   "source": [
    "## Column names"
   ]
  },
  {
   "cell_type": "code",
   "execution_count": 18,
   "id": "0129dd9a",
   "metadata": {},
   "outputs": [
    {
     "data": {
      "text/plain": [
       "Index(['rshorriblerankingorder', 'albumnamers', 'rsartist', 'rsrationale',\n",
       "       'rsyear', 'albumidspotify'],\n",
       "      dtype='object')"
      ]
     },
     "execution_count": 18,
     "metadata": {},
     "output_type": "execute_result"
    }
   ],
   "source": [
    "sqltable_horrible50.columns"
   ]
  },
  {
   "cell_type": "code",
   "execution_count": 19,
   "id": "fc704645",
   "metadata": {},
   "outputs": [],
   "source": [
    "finalcolumns = ['rs_horriblerankingorder', 'rs_albumname', 'rs_artist', 'rationale', 'rs_year','sp_albumid']"
   ]
  },
  {
   "cell_type": "code",
   "execution_count": 20,
   "id": "46edc4d7",
   "metadata": {},
   "outputs": [],
   "source": [
    "sqltable_horrible50.columns = finalcolumns"
   ]
  },
  {
   "cell_type": "code",
   "execution_count": 21,
   "id": "1dc746f2",
   "metadata": {},
   "outputs": [
    {
     "data": {
      "text/html": [
       "<div>\n",
       "<style scoped>\n",
       "    .dataframe tbody tr th:only-of-type {\n",
       "        vertical-align: middle;\n",
       "    }\n",
       "\n",
       "    .dataframe tbody tr th {\n",
       "        vertical-align: top;\n",
       "    }\n",
       "\n",
       "    .dataframe thead th {\n",
       "        text-align: right;\n",
       "    }\n",
       "</style>\n",
       "<table border=\"1\" class=\"dataframe\">\n",
       "  <thead>\n",
       "    <tr style=\"text-align: right;\">\n",
       "      <th></th>\n",
       "      <th>rs_horriblerankingorder</th>\n",
       "      <th>rs_albumname</th>\n",
       "      <th>rs_artist</th>\n",
       "      <th>rationale</th>\n",
       "      <th>rs_year</th>\n",
       "      <th>sp_albumid</th>\n",
       "    </tr>\n",
       "  </thead>\n",
       "  <tbody>\n",
       "    <tr>\n",
       "      <th>0</th>\n",
       "      <td>50</td>\n",
       "      <td>Its Hard</td>\n",
       "      <td>The Who</td>\n",
       "      <td>In the early Eighties, Pete Townshend was jugg...</td>\n",
       "      <td>1982</td>\n",
       "      <td>46rjSfrOaPBPX8npn50l0A</td>\n",
       "    </tr>\n",
       "  </tbody>\n",
       "</table>\n",
       "</div>"
      ],
      "text/plain": [
       "   rs_horriblerankingorder rs_albumname rs_artist  \\\n",
       "0                       50     Its Hard   The Who   \n",
       "\n",
       "                                           rationale  rs_year  \\\n",
       "0  In the early Eighties, Pete Townshend was jugg...     1982   \n",
       "\n",
       "               sp_albumid  \n",
       "0  46rjSfrOaPBPX8npn50l0A  "
      ]
     },
     "execution_count": 21,
     "metadata": {},
     "output_type": "execute_result"
    }
   ],
   "source": [
    "sqltable_horrible50.head(1)"
   ]
  },
  {
   "cell_type": "markdown",
   "id": "53195f4a",
   "metadata": {},
   "source": [
    "## Reoder columns"
   ]
  },
  {
   "cell_type": "code",
   "execution_count": 22,
   "id": "2dea3375",
   "metadata": {},
   "outputs": [
    {
     "data": {
      "text/html": [
       "<div>\n",
       "<style scoped>\n",
       "    .dataframe tbody tr th:only-of-type {\n",
       "        vertical-align: middle;\n",
       "    }\n",
       "\n",
       "    .dataframe tbody tr th {\n",
       "        vertical-align: top;\n",
       "    }\n",
       "\n",
       "    .dataframe thead th {\n",
       "        text-align: right;\n",
       "    }\n",
       "</style>\n",
       "<table border=\"1\" class=\"dataframe\">\n",
       "  <thead>\n",
       "    <tr style=\"text-align: right;\">\n",
       "      <th></th>\n",
       "      <th>sp_albumid</th>\n",
       "      <th>rs_horriblerankingorder</th>\n",
       "      <th>rs_albumname</th>\n",
       "      <th>rs_artist</th>\n",
       "      <th>rs_year</th>\n",
       "    </tr>\n",
       "  </thead>\n",
       "  <tbody>\n",
       "    <tr>\n",
       "      <th>0</th>\n",
       "      <td>46rjSfrOaPBPX8npn50l0A</td>\n",
       "      <td>50</td>\n",
       "      <td>Its Hard</td>\n",
       "      <td>The Who</td>\n",
       "      <td>1982</td>\n",
       "    </tr>\n",
       "  </tbody>\n",
       "</table>\n",
       "</div>"
      ],
      "text/plain": [
       "               sp_albumid  rs_horriblerankingorder rs_albumname rs_artist  \\\n",
       "0  46rjSfrOaPBPX8npn50l0A                       50     Its Hard   The Who   \n",
       "\n",
       "   rs_year  \n",
       "0     1982  "
      ]
     },
     "execution_count": 22,
     "metadata": {},
     "output_type": "execute_result"
    }
   ],
   "source": [
    "sqltable_horrible50 = sqltable_horrible50.iloc[:, [5, 0, 1, 2, 4]]\n",
    "sqltable_horrible50.head(1)"
   ]
  },
  {
   "cell_type": "code",
   "execution_count": 23,
   "id": "830c3291",
   "metadata": {},
   "outputs": [],
   "source": [
    "sqltable_horrible50['album_sp_albumid'] = sqltable_horrible50['sp_albumid']"
   ]
  },
  {
   "cell_type": "code",
   "execution_count": 24,
   "id": "b8fedc7f",
   "metadata": {},
   "outputs": [
    {
     "data": {
      "text/html": [
       "<div>\n",
       "<style scoped>\n",
       "    .dataframe tbody tr th:only-of-type {\n",
       "        vertical-align: middle;\n",
       "    }\n",
       "\n",
       "    .dataframe tbody tr th {\n",
       "        vertical-align: top;\n",
       "    }\n",
       "\n",
       "    .dataframe thead th {\n",
       "        text-align: right;\n",
       "    }\n",
       "</style>\n",
       "<table border=\"1\" class=\"dataframe\">\n",
       "  <thead>\n",
       "    <tr style=\"text-align: right;\">\n",
       "      <th></th>\n",
       "      <th>sp_albumid</th>\n",
       "      <th>rs_horriblerankingorder</th>\n",
       "      <th>rs_albumname</th>\n",
       "      <th>rs_artist</th>\n",
       "      <th>rs_year</th>\n",
       "      <th>album_sp_albumid</th>\n",
       "    </tr>\n",
       "  </thead>\n",
       "  <tbody>\n",
       "    <tr>\n",
       "      <th>0</th>\n",
       "      <td>46rjSfrOaPBPX8npn50l0A</td>\n",
       "      <td>50</td>\n",
       "      <td>Its Hard</td>\n",
       "      <td>The Who</td>\n",
       "      <td>1982</td>\n",
       "      <td>46rjSfrOaPBPX8npn50l0A</td>\n",
       "    </tr>\n",
       "  </tbody>\n",
       "</table>\n",
       "</div>"
      ],
      "text/plain": [
       "               sp_albumid  rs_horriblerankingorder rs_albumname rs_artist  \\\n",
       "0  46rjSfrOaPBPX8npn50l0A                       50     Its Hard   The Who   \n",
       "\n",
       "   rs_year        album_sp_albumid  \n",
       "0     1982  46rjSfrOaPBPX8npn50l0A  "
      ]
     },
     "execution_count": 24,
     "metadata": {},
     "output_type": "execute_result"
    }
   ],
   "source": [
    "sqltable_horrible50.head(1)"
   ]
  },
  {
   "cell_type": "markdown",
   "id": "75879cd1",
   "metadata": {},
   "source": [
    "## Data type"
   ]
  },
  {
   "cell_type": "code",
   "execution_count": 25,
   "id": "fc5dc175",
   "metadata": {},
   "outputs": [
    {
     "name": "stdout",
     "output_type": "stream",
     "text": [
      "<class 'pandas.core.frame.DataFrame'>\n",
      "Index: 36 entries, 0 to 49\n",
      "Data columns (total 6 columns):\n",
      " #   Column                   Non-Null Count  Dtype \n",
      "---  ------                   --------------  ----- \n",
      " 0   sp_albumid               36 non-null     object\n",
      " 1   rs_horriblerankingorder  36 non-null     int64 \n",
      " 2   rs_albumname             36 non-null     object\n",
      " 3   rs_artist                36 non-null     object\n",
      " 4   rs_year                  36 non-null     int64 \n",
      " 5   album_sp_albumid         36 non-null     object\n",
      "dtypes: int64(2), object(4)\n",
      "memory usage: 2.0+ KB\n"
     ]
    }
   ],
   "source": [
    "sqltable_horrible50.info()"
   ]
  },
  {
   "cell_type": "code",
   "execution_count": 26,
   "id": "bb73830d",
   "metadata": {},
   "outputs": [],
   "source": [
    "sqltable_horrible50['rs_year'] = pd.to_datetime(sqltable_horrible50['rs_year'], format='%Y')"
   ]
  },
  {
   "cell_type": "code",
   "execution_count": 27,
   "id": "24f0dbe6",
   "metadata": {},
   "outputs": [
    {
     "data": {
      "text/plain": [
       "dtype('<M8[ns]')"
      ]
     },
     "execution_count": 27,
     "metadata": {},
     "output_type": "execute_result"
    }
   ],
   "source": [
    "sqltable_horrible50['rs_year'].dtype"
   ]
  },
  {
   "cell_type": "code",
   "execution_count": 28,
   "id": "31f7d34b",
   "metadata": {},
   "outputs": [
    {
     "name": "stdout",
     "output_type": "stream",
     "text": [
      "<class 'pandas.core.frame.DataFrame'>\n",
      "Index: 36 entries, 0 to 49\n",
      "Data columns (total 6 columns):\n",
      " #   Column                   Non-Null Count  Dtype         \n",
      "---  ------                   --------------  -----         \n",
      " 0   sp_albumid               36 non-null     object        \n",
      " 1   rs_horriblerankingorder  36 non-null     int64         \n",
      " 2   rs_albumname             36 non-null     object        \n",
      " 3   rs_artist                36 non-null     object        \n",
      " 4   rs_year                  36 non-null     datetime64[ns]\n",
      " 5   album_sp_albumid         36 non-null     object        \n",
      "dtypes: datetime64[ns](1), int64(1), object(4)\n",
      "memory usage: 2.0+ KB\n"
     ]
    }
   ],
   "source": [
    "sqltable_horrible50.info()"
   ]
  },
  {
   "cell_type": "markdown",
   "id": "3bbaed80",
   "metadata": {},
   "source": [
    "## Export "
   ]
  },
  {
   "cell_type": "code",
   "execution_count": 30,
   "id": "210f9eee",
   "metadata": {},
   "outputs": [],
   "source": [
    "sqltable_horrible50.to_csv('../data/tableau/tableautable_horrible50.csv', index=True, encoding='latin1')"
   ]
  }
 ],
 "metadata": {
  "kernelspec": {
   "display_name": "clase",
   "language": "python",
   "name": "clase"
  },
  "language_info": {
   "codemirror_mode": {
    "name": "ipython",
    "version": 3
   },
   "file_extension": ".py",
   "mimetype": "text/x-python",
   "name": "python",
   "nbconvert_exporter": "python",
   "pygments_lexer": "ipython3",
   "version": "3.10.13"
  }
 },
 "nbformat": 4,
 "nbformat_minor": 5
}
