{
 "cells": [
  {
   "cell_type": "markdown",
   "id": "10685b8a",
   "metadata": {},
   "source": [
    "## Import libraries"
   ]
  },
  {
   "cell_type": "code",
   "execution_count": 1,
   "id": "67e6a364",
   "metadata": {},
   "outputs": [],
   "source": [
    "import pandas as pd\n",
    "import numpy as np\n",
    "\n",
    "import warnings\n",
    "warnings.filterwarnings('ignore')\n",
    "\n",
    "pd.set_option('display.max_columns', None)  # me muestre todas las columnas\n",
    "#pd.set_option('display.max_rows', None)  # me muestre todas las filas"
   ]
  },
  {
   "cell_type": "markdown",
   "id": "d6791e7d",
   "metadata": {},
   "source": [
    "## Import files "
   ]
  },
  {
   "cell_type": "code",
   "execution_count": 2,
   "id": "afd11dca",
   "metadata": {},
   "outputs": [],
   "source": [
    "trackbasicinfo = pd.read_csv('../data/clean/api_tracks1_clean.csv', encoding='latin1')"
   ]
  },
  {
   "cell_type": "code",
   "execution_count": 3,
   "id": "49f23f10",
   "metadata": {},
   "outputs": [
    {
     "data": {
      "text/html": [
       "<div>\n",
       "<style scoped>\n",
       "    .dataframe tbody tr th:only-of-type {\n",
       "        vertical-align: middle;\n",
       "    }\n",
       "\n",
       "    .dataframe tbody tr th {\n",
       "        vertical-align: top;\n",
       "    }\n",
       "\n",
       "    .dataframe thead th {\n",
       "        text-align: right;\n",
       "    }\n",
       "</style>\n",
       "<table border=\"1\" class=\"dataframe\">\n",
       "  <thead>\n",
       "    <tr style=\"text-align: right;\">\n",
       "      <th></th>\n",
       "      <th>track_id</th>\n",
       "      <th>track_name</th>\n",
       "      <th>album_id</th>\n",
       "      <th>artist_id</th>\n",
       "      <th>artist_name</th>\n",
       "    </tr>\n",
       "  </thead>\n",
       "  <tbody>\n",
       "    <tr>\n",
       "      <th>0</th>\n",
       "      <td>4fUKE8EULjQdHF4zb0M8FO</td>\n",
       "      <td>Sgt. Pepper's Lonely Hearts Club Band - Remast...</td>\n",
       "      <td>6QaVfG1pHYl1z15ZxkvVDW</td>\n",
       "      <td>3WrFJ7ztbogyGnTHbHJFl2</td>\n",
       "      <td>The Beatles</td>\n",
       "    </tr>\n",
       "    <tr>\n",
       "      <th>1</th>\n",
       "      <td>2RnPATK99oGOZygnD2GTO6</td>\n",
       "      <td>With A Little Help From My Friends - Remastere...</td>\n",
       "      <td>6QaVfG1pHYl1z15ZxkvVDW</td>\n",
       "      <td>3WrFJ7ztbogyGnTHbHJFl2</td>\n",
       "      <td>The Beatles</td>\n",
       "    </tr>\n",
       "  </tbody>\n",
       "</table>\n",
       "</div>"
      ],
      "text/plain": [
       "                 track_id                                         track_name  \\\n",
       "0  4fUKE8EULjQdHF4zb0M8FO  Sgt. Pepper's Lonely Hearts Club Band - Remast...   \n",
       "1  2RnPATK99oGOZygnD2GTO6  With A Little Help From My Friends - Remastere...   \n",
       "\n",
       "                 album_id               artist_id  artist_name  \n",
       "0  6QaVfG1pHYl1z15ZxkvVDW  3WrFJ7ztbogyGnTHbHJFl2  The Beatles  \n",
       "1  6QaVfG1pHYl1z15ZxkvVDW  3WrFJ7ztbogyGnTHbHJFl2  The Beatles  "
      ]
     },
     "execution_count": 3,
     "metadata": {},
     "output_type": "execute_result"
    }
   ],
   "source": [
    "trackbasicinfo.head(2)"
   ]
  },
  {
   "cell_type": "code",
   "execution_count": 4,
   "id": "5f952c72",
   "metadata": {},
   "outputs": [],
   "source": [
    "trackmetrics =  pd.read_csv('../data/clean/api_alltracks_clean.csv', encoding='latin1')"
   ]
  },
  {
   "cell_type": "code",
   "execution_count": 5,
   "id": "d63d9c26",
   "metadata": {},
   "outputs": [
    {
     "data": {
      "text/html": [
       "<div>\n",
       "<style scoped>\n",
       "    .dataframe tbody tr th:only-of-type {\n",
       "        vertical-align: middle;\n",
       "    }\n",
       "\n",
       "    .dataframe tbody tr th {\n",
       "        vertical-align: top;\n",
       "    }\n",
       "\n",
       "    .dataframe thead th {\n",
       "        text-align: right;\n",
       "    }\n",
       "</style>\n",
       "<table border=\"1\" class=\"dataframe\">\n",
       "  <thead>\n",
       "    <tr style=\"text-align: right;\">\n",
       "      <th></th>\n",
       "      <th>track_id</th>\n",
       "      <th>danceability</th>\n",
       "      <th>energy</th>\n",
       "      <th>acousticness</th>\n",
       "      <th>valence</th>\n",
       "      <th>tempo</th>\n",
       "      <th>loudness</th>\n",
       "    </tr>\n",
       "  </thead>\n",
       "  <tbody>\n",
       "    <tr>\n",
       "      <th>0</th>\n",
       "      <td>4fUKE8EULjQdHF4zb0M8FO</td>\n",
       "      <td>0.451</td>\n",
       "      <td>0.673</td>\n",
       "      <td>0.0857</td>\n",
       "      <td>0.583</td>\n",
       "      <td>95.513</td>\n",
       "      <td>-9.115</td>\n",
       "    </tr>\n",
       "    <tr>\n",
       "      <th>1</th>\n",
       "      <td>2RnPATK99oGOZygnD2GTO6</td>\n",
       "      <td>0.705</td>\n",
       "      <td>0.515</td>\n",
       "      <td>0.3650</td>\n",
       "      <td>0.803</td>\n",
       "      <td>112.035</td>\n",
       "      <td>-9.343</td>\n",
       "    </tr>\n",
       "  </tbody>\n",
       "</table>\n",
       "</div>"
      ],
      "text/plain": [
       "                 track_id  danceability  energy  acousticness  valence  \\\n",
       "0  4fUKE8EULjQdHF4zb0M8FO         0.451   0.673        0.0857    0.583   \n",
       "1  2RnPATK99oGOZygnD2GTO6         0.705   0.515        0.3650    0.803   \n",
       "\n",
       "     tempo  loudness  \n",
       "0   95.513    -9.115  \n",
       "1  112.035    -9.343  "
      ]
     },
     "execution_count": 5,
     "metadata": {},
     "output_type": "execute_result"
    }
   ],
   "source": [
    "trackmetrics.head(2)"
   ]
  },
  {
   "cell_type": "markdown",
   "id": "ede956e9",
   "metadata": {},
   "source": [
    "## Merge tables"
   ]
  },
  {
   "cell_type": "code",
   "execution_count": 6,
   "id": "f223fe7a",
   "metadata": {},
   "outputs": [],
   "source": [
    "tracks = pd.merge(trackbasicinfo, trackmetrics[['track_id', 'danceability','energy','acousticness','valence','tempo','loudness']], how='left', on='track_id')"
   ]
  },
  {
   "cell_type": "code",
   "execution_count": 8,
   "id": "67e7adca",
   "metadata": {},
   "outputs": [
    {
     "data": {
      "text/html": [
       "<div>\n",
       "<style scoped>\n",
       "    .dataframe tbody tr th:only-of-type {\n",
       "        vertical-align: middle;\n",
       "    }\n",
       "\n",
       "    .dataframe tbody tr th {\n",
       "        vertical-align: top;\n",
       "    }\n",
       "\n",
       "    .dataframe thead th {\n",
       "        text-align: right;\n",
       "    }\n",
       "</style>\n",
       "<table border=\"1\" class=\"dataframe\">\n",
       "  <thead>\n",
       "    <tr style=\"text-align: right;\">\n",
       "      <th></th>\n",
       "      <th>track_id</th>\n",
       "      <th>track_name</th>\n",
       "      <th>album_id</th>\n",
       "      <th>artist_id</th>\n",
       "      <th>artist_name</th>\n",
       "      <th>danceability</th>\n",
       "      <th>energy</th>\n",
       "      <th>acousticness</th>\n",
       "      <th>valence</th>\n",
       "      <th>tempo</th>\n",
       "      <th>loudness</th>\n",
       "    </tr>\n",
       "  </thead>\n",
       "  <tbody>\n",
       "    <tr>\n",
       "      <th>0</th>\n",
       "      <td>4fUKE8EULjQdHF4zb0M8FO</td>\n",
       "      <td>Sgt. Pepper's Lonely Hearts Club Band - Remast...</td>\n",
       "      <td>6QaVfG1pHYl1z15ZxkvVDW</td>\n",
       "      <td>3WrFJ7ztbogyGnTHbHJFl2</td>\n",
       "      <td>The Beatles</td>\n",
       "      <td>0.451</td>\n",
       "      <td>0.673</td>\n",
       "      <td>0.0857</td>\n",
       "      <td>0.583</td>\n",
       "      <td>95.513</td>\n",
       "      <td>-9.115</td>\n",
       "    </tr>\n",
       "    <tr>\n",
       "      <th>1</th>\n",
       "      <td>2RnPATK99oGOZygnD2GTO6</td>\n",
       "      <td>With A Little Help From My Friends - Remastere...</td>\n",
       "      <td>6QaVfG1pHYl1z15ZxkvVDW</td>\n",
       "      <td>3WrFJ7ztbogyGnTHbHJFl2</td>\n",
       "      <td>The Beatles</td>\n",
       "      <td>0.705</td>\n",
       "      <td>0.515</td>\n",
       "      <td>0.3650</td>\n",
       "      <td>0.803</td>\n",
       "      <td>112.035</td>\n",
       "      <td>-9.343</td>\n",
       "    </tr>\n",
       "  </tbody>\n",
       "</table>\n",
       "</div>"
      ],
      "text/plain": [
       "                 track_id                                         track_name  \\\n",
       "0  4fUKE8EULjQdHF4zb0M8FO  Sgt. Pepper's Lonely Hearts Club Band - Remast...   \n",
       "1  2RnPATK99oGOZygnD2GTO6  With A Little Help From My Friends - Remastere...   \n",
       "\n",
       "                 album_id               artist_id  artist_name  danceability  \\\n",
       "0  6QaVfG1pHYl1z15ZxkvVDW  3WrFJ7ztbogyGnTHbHJFl2  The Beatles         0.451   \n",
       "1  6QaVfG1pHYl1z15ZxkvVDW  3WrFJ7ztbogyGnTHbHJFl2  The Beatles         0.705   \n",
       "\n",
       "   energy  acousticness  valence    tempo  loudness  \n",
       "0   0.673        0.0857    0.583   95.513    -9.115  \n",
       "1   0.515        0.3650    0.803  112.035    -9.343  "
      ]
     },
     "execution_count": 8,
     "metadata": {},
     "output_type": "execute_result"
    }
   ],
   "source": [
    "tracks.head(2)"
   ]
  },
  {
   "cell_type": "code",
   "execution_count": 9,
   "id": "08fa15b4",
   "metadata": {},
   "outputs": [],
   "source": [
    "tracks.drop(['artist_id'], axis=1, inplace=True)"
   ]
  },
  {
   "cell_type": "code",
   "execution_count": 10,
   "id": "94c49d26",
   "metadata": {},
   "outputs": [
    {
     "data": {
      "text/html": [
       "<div>\n",
       "<style scoped>\n",
       "    .dataframe tbody tr th:only-of-type {\n",
       "        vertical-align: middle;\n",
       "    }\n",
       "\n",
       "    .dataframe tbody tr th {\n",
       "        vertical-align: top;\n",
       "    }\n",
       "\n",
       "    .dataframe thead th {\n",
       "        text-align: right;\n",
       "    }\n",
       "</style>\n",
       "<table border=\"1\" class=\"dataframe\">\n",
       "  <thead>\n",
       "    <tr style=\"text-align: right;\">\n",
       "      <th></th>\n",
       "      <th>track_id</th>\n",
       "      <th>track_name</th>\n",
       "      <th>album_id</th>\n",
       "      <th>artist_name</th>\n",
       "      <th>danceability</th>\n",
       "      <th>energy</th>\n",
       "      <th>acousticness</th>\n",
       "      <th>valence</th>\n",
       "      <th>tempo</th>\n",
       "      <th>loudness</th>\n",
       "    </tr>\n",
       "  </thead>\n",
       "  <tbody>\n",
       "    <tr>\n",
       "      <th>0</th>\n",
       "      <td>4fUKE8EULjQdHF4zb0M8FO</td>\n",
       "      <td>Sgt. Pepper's Lonely Hearts Club Band - Remast...</td>\n",
       "      <td>6QaVfG1pHYl1z15ZxkvVDW</td>\n",
       "      <td>The Beatles</td>\n",
       "      <td>0.451</td>\n",
       "      <td>0.673</td>\n",
       "      <td>0.0857</td>\n",
       "      <td>0.583</td>\n",
       "      <td>95.513</td>\n",
       "      <td>-9.115</td>\n",
       "    </tr>\n",
       "  </tbody>\n",
       "</table>\n",
       "</div>"
      ],
      "text/plain": [
       "                 track_id                                         track_name  \\\n",
       "0  4fUKE8EULjQdHF4zb0M8FO  Sgt. Pepper's Lonely Hearts Club Band - Remast...   \n",
       "\n",
       "                 album_id  artist_name  danceability  energy  acousticness  \\\n",
       "0  6QaVfG1pHYl1z15ZxkvVDW  The Beatles         0.451   0.673        0.0857   \n",
       "\n",
       "   valence   tempo  loudness  \n",
       "0    0.583  95.513    -9.115  "
      ]
     },
     "execution_count": 10,
     "metadata": {},
     "output_type": "execute_result"
    }
   ],
   "source": [
    "tracks.head(1)"
   ]
  },
  {
   "cell_type": "markdown",
   "id": "ce0bbc97",
   "metadata": {},
   "source": [
    "## Export file"
   ]
  },
  {
   "cell_type": "code",
   "execution_count": 11,
   "id": "f0d96d99",
   "metadata": {},
   "outputs": [],
   "source": [
    "tracks.to_csv('../data/tableau/tableautable_tracks.csv', index=False, encoding='latin1')"
   ]
  }
 ],
 "metadata": {
  "kernelspec": {
   "display_name": "clase",
   "language": "python",
   "name": "clase"
  },
  "language_info": {
   "codemirror_mode": {
    "name": "ipython",
    "version": 3
   },
   "file_extension": ".py",
   "mimetype": "text/x-python",
   "name": "python",
   "nbconvert_exporter": "python",
   "pygments_lexer": "ipython3",
   "version": "3.10.13"
  }
 },
 "nbformat": 4,
 "nbformat_minor": 5
}
