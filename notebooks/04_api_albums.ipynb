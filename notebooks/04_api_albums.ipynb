{
 "cells": [
  {
   "cell_type": "markdown",
   "id": "d9440e3a",
   "metadata": {},
   "source": [
    "## Import libraries"
   ]
  },
  {
   "cell_type": "code",
   "execution_count": 97,
   "id": "205aec96",
   "metadata": {},
   "outputs": [],
   "source": [
    "import pandas as pd\n",
    "import numpy as np\n",
    "import time \n",
    "\n",
    "import warnings\n",
    "warnings.filterwarnings('ignore')\n",
    "\n",
    "pd.set_option('display.max_columns', None)  \n",
    "#pd.set_option('display.max_rows', None)  "
   ]
  },
  {
   "cell_type": "markdown",
   "id": "1e62bc18",
   "metadata": {},
   "source": [
    "## Get artist target list "
   ]
  },
  {
   "cell_type": "code",
   "execution_count": 98,
   "id": "9d9c59e5",
   "metadata": {},
   "outputs": [
    {
     "data": {
      "text/html": [
       "<div>\n",
       "<style scoped>\n",
       "    .dataframe tbody tr th:only-of-type {\n",
       "        vertical-align: middle;\n",
       "    }\n",
       "\n",
       "    .dataframe tbody tr th {\n",
       "        vertical-align: top;\n",
       "    }\n",
       "\n",
       "    .dataframe thead th {\n",
       "        text-align: right;\n",
       "    }\n",
       "</style>\n",
       "<table border=\"1\" class=\"dataframe\">\n",
       "  <thead>\n",
       "    <tr style=\"text-align: right;\">\n",
       "      <th></th>\n",
       "      <th>rstoprankingorder</th>\n",
       "      <th>rsartist</th>\n",
       "      <th>rsyear</th>\n",
       "      <th>rsalbum</th>\n",
       "      <th>album_artist</th>\n",
       "      <th>rshorriblerankingorder</th>\n",
       "      <th>rsrationale</th>\n",
       "    </tr>\n",
       "  </thead>\n",
       "  <tbody>\n",
       "    <tr>\n",
       "      <th>0</th>\n",
       "      <td>1.0</td>\n",
       "      <td>The Beatles</td>\n",
       "      <td>1967</td>\n",
       "      <td>Sgt. Pepper's Lonely Hearts Club Band</td>\n",
       "      <td>Sgt. Pepper's Lonely Hearts Club Band - The Be...</td>\n",
       "      <td>NaN</td>\n",
       "      <td>NaN</td>\n",
       "    </tr>\n",
       "    <tr>\n",
       "      <th>1</th>\n",
       "      <td>2.0</td>\n",
       "      <td>The Beach Boys</td>\n",
       "      <td>1966</td>\n",
       "      <td>Pet Sounds</td>\n",
       "      <td>Pet Sounds - The Beach Boys</td>\n",
       "      <td>NaN</td>\n",
       "      <td>NaN</td>\n",
       "    </tr>\n",
       "  </tbody>\n",
       "</table>\n",
       "</div>"
      ],
      "text/plain": [
       "   rstoprankingorder        rsartist  rsyear  \\\n",
       "0                1.0     The Beatles    1967   \n",
       "1                2.0  The Beach Boys    1966   \n",
       "\n",
       "                                 rsalbum  \\\n",
       "0  Sgt. Pepper's Lonely Hearts Club Band   \n",
       "1                             Pet Sounds   \n",
       "\n",
       "                                        album_artist  rshorriblerankingorder  \\\n",
       "0  Sgt. Pepper's Lonely Hearts Club Band - The Be...                     NaN   \n",
       "1                        Pet Sounds - The Beach Boys                     NaN   \n",
       "\n",
       "  rsrationale  \n",
       "0         NaN  \n",
       "1         NaN  "
      ]
     },
     "execution_count": 98,
     "metadata": {},
     "output_type": "execute_result"
    }
   ],
   "source": [
    "all_albums = pd.read_csv('../data/clean/all_550_albums_clean.csv', encoding='latin1')\n",
    "\n",
    "all_albums.head(2)"
   ]
  },
  {
   "cell_type": "code",
   "execution_count": 99,
   "id": "9c610533",
   "metadata": {},
   "outputs": [
    {
     "data": {
      "text/plain": [
       "304"
      ]
     },
     "execution_count": 99,
     "metadata": {},
     "output_type": "execute_result"
    }
   ],
   "source": [
    "len(all_albums['rsartist'].unique())"
   ]
  },
  {
   "cell_type": "markdown",
   "id": "fe7c31fc",
   "metadata": {},
   "source": [
    "## Spotify"
   ]
  },
  {
   "cell_type": "code",
   "execution_count": 100,
   "id": "77508179",
   "metadata": {},
   "outputs": [],
   "source": [
    "#%pip install pyarrow\n",
    "#%pip install joblib\n",
    "#%pip install tqdm\n",
    "#%pip install spotipy\n",
    "#%pip install python-dotenv\n",
    "#%pip install requests "
   ]
  },
  {
   "cell_type": "code",
   "execution_count": 101,
   "id": "a063c04a",
   "metadata": {},
   "outputs": [],
   "source": [
    "import requests as rq\n",
    "import pyarrow\n",
    "from joblib import Parallel, delayed\n",
    "from tqdm import tqdm\n",
    "import pymongo\n",
    "from passwords import *"
   ]
  },
  {
   "cell_type": "markdown",
   "id": "b2766b3d",
   "metadata": {},
   "source": [
    "### Generate token"
   ]
  },
  {
   "cell_type": "code",
   "execution_count": 102,
   "id": "a2446f0f",
   "metadata": {},
   "outputs": [
    {
     "data": {
      "text/plain": [
       "<Response [200]>"
      ]
     },
     "execution_count": 102,
     "metadata": {},
     "output_type": "execute_result"
    }
   ],
   "source": [
    "# Obtener el TOKEN\n",
    "\n",
    "AUTH_URL = \"https://accounts.spotify.com/api/token\"\n",
    "\n",
    "creds = {\n",
    "    \"grant_type\": \"client_credentials\",\n",
    "    \"client_id\": Client_ID,\n",
    "    \"client_secret\": Client_secret\n",
    "}\n",
    "\n",
    "response = rq.post(AUTH_URL, \n",
    "                         data=creds, \n",
    "                         headers={\"Content-Type\": \"application/x-www-form-urlencoded\"})\n",
    "\n",
    "\n",
    "TOKEN = response.json()['access_token']\n",
    "\n",
    "# Conexión con la API\n",
    "\n",
    "url = \"https://api.spotify.com/\"\n",
    "\n",
    "headers = {\"Authorization\": f'Bearer {TOKEN}'}\n",
    "\n",
    "response = rq.get(url,headers=headers)\n",
    "response"
   ]
  },
  {
   "cell_type": "markdown",
   "id": "645dcdd8",
   "metadata": {},
   "source": [
    "### Get artist information "
   ]
  },
  {
   "cell_type": "code",
   "execution_count": 103,
   "id": "772d0031",
   "metadata": {},
   "outputs": [
    {
     "data": {
      "text/plain": [
       "0       The Beatles\n",
       "1    The Beach Boys\n",
       "2       The Beatles\n",
       "Name: rsartist, dtype: object"
      ]
     },
     "execution_count": 103,
     "metadata": {},
     "output_type": "execute_result"
    }
   ],
   "source": [
    "#we will do a keyword search \n",
    "\n",
    "all_albums['rsartist'].head(3)"
   ]
  },
  {
   "cell_type": "markdown",
   "id": "3e56a6e9",
   "metadata": {},
   "source": [
    "#### Test to understand the API for the info I am interested on "
   ]
  },
  {
   "cell_type": "code",
   "execution_count": 104,
   "id": "9f8328e1",
   "metadata": {},
   "outputs": [],
   "source": [
    "endpoint = 'https://api.spotify.com/v1/search'"
   ]
  },
  {
   "cell_type": "code",
   "execution_count": 105,
   "id": "8aaf05a6",
   "metadata": {},
   "outputs": [],
   "source": [
    "artistname = 'The Beatles'\n",
    "albumname = \"Sgt. Pepper's Lonely Hearts Club Band\""
   ]
  },
  {
   "cell_type": "code",
   "execution_count": 106,
   "id": "b0e30dba",
   "metadata": {},
   "outputs": [],
   "source": [
    "params = {'q': f'album:{albumname} artist:{artistname}','type': 'album','market':'US', 'limit':'1','offset':'0'}"
   ]
  },
  {
   "cell_type": "code",
   "execution_count": 107,
   "id": "241edb02",
   "metadata": {},
   "outputs": [
    {
     "data": {
      "text/plain": [
       "<Response [200]>"
      ]
     },
     "execution_count": 107,
     "metadata": {},
     "output_type": "execute_result"
    }
   ],
   "source": [
    "response = rq.get(endpoint, headers=headers, params=params)\n",
    "response"
   ]
  },
  {
   "cell_type": "code",
   "execution_count": 108,
   "id": "c862f769",
   "metadata": {},
   "outputs": [
    {
     "data": {
      "text/plain": [
       "dict_keys(['albums'])"
      ]
     },
     "execution_count": 108,
     "metadata": {},
     "output_type": "execute_result"
    }
   ],
   "source": [
    "data = response.json()\n",
    "data.keys()"
   ]
  },
  {
   "cell_type": "code",
   "execution_count": 109,
   "id": "0cd3820f",
   "metadata": {},
   "outputs": [
    {
     "data": {
      "text/plain": [
       "'6QaVfG1pHYl1z15ZxkvVDW'"
      ]
     },
     "execution_count": 109,
     "metadata": {},
     "output_type": "execute_result"
    }
   ],
   "source": [
    "#getalbumid\n",
    "data['albums']['items'][0]['id']"
   ]
  },
  {
   "cell_type": "code",
   "execution_count": 110,
   "id": "20b626e6",
   "metadata": {},
   "outputs": [
    {
     "data": {
      "text/plain": [
       "\"Sgt. Pepper's Lonely Hearts Club Band (Remastered)\""
      ]
     },
     "execution_count": 110,
     "metadata": {},
     "output_type": "execute_result"
    }
   ],
   "source": [
    "#getalbumname\n",
    "data['albums']['items'][0]['name']"
   ]
  },
  {
   "cell_type": "code",
   "execution_count": 111,
   "id": "0a276d4a",
   "metadata": {},
   "outputs": [
    {
     "data": {
      "text/plain": [
       "'The Beatles'"
      ]
     },
     "execution_count": 111,
     "metadata": {},
     "output_type": "execute_result"
    }
   ],
   "source": [
    "#artist name \n",
    "data['albums']['items'][0]['artists'][0]['name']"
   ]
  },
  {
   "cell_type": "code",
   "execution_count": 112,
   "id": "3e5a811e",
   "metadata": {},
   "outputs": [
    {
     "data": {
      "text/plain": [
       "'3WrFJ7ztbogyGnTHbHJFl2'"
      ]
     },
     "execution_count": 112,
     "metadata": {},
     "output_type": "execute_result"
    }
   ],
   "source": [
    "#artist id\n",
    "data['albums']['items'][0]['artists'][0]['id']"
   ]
  },
  {
   "cell_type": "code",
   "execution_count": 113,
   "id": "5b06e35c",
   "metadata": {},
   "outputs": [
    {
     "data": {
      "text/plain": [
       "'1967-06-01'"
      ]
     },
     "execution_count": 113,
     "metadata": {},
     "output_type": "execute_result"
    }
   ],
   "source": [
    "#album release date\n",
    "data['albums']['items'][0]['release_date']"
   ]
  },
  {
   "cell_type": "code",
   "execution_count": 114,
   "id": "19eebfc6",
   "metadata": {},
   "outputs": [
    {
     "data": {
      "text/plain": [
       "13"
      ]
     },
     "execution_count": 114,
     "metadata": {},
     "output_type": "execute_result"
    }
   ],
   "source": [
    "#total tracks\n",
    "data['albums']['items'][0]['total_tracks']"
   ]
  },
  {
   "cell_type": "markdown",
   "id": "f23fb282",
   "metadata": {},
   "source": [
    "#### target lists "
   ]
  },
  {
   "cell_type": "code",
   "execution_count": 115,
   "id": "21891c25",
   "metadata": {},
   "outputs": [
    {
     "data": {
      "text/plain": [
       "[\"Sgt.+Pepper's+Lonely+Hearts+Club+Band\", 'Pet+Sounds', 'Revolver']"
      ]
     },
     "execution_count": 115,
     "metadata": {},
     "output_type": "execute_result"
    }
   ],
   "source": [
    "#replacing spaces for '+' for the search query \n",
    "\n",
    "albumlist = [x.replace(' ', '+') for x in all_albums['rsalbum']]\n",
    "albumlist[0:3]"
   ]
  },
  {
   "cell_type": "code",
   "execution_count": 116,
   "id": "61e1b2db",
   "metadata": {},
   "outputs": [
    {
     "data": {
      "text/plain": [
       "['The+Beatles', 'The+Beach+Boys', 'The+Beatles']"
      ]
     },
     "execution_count": 116,
     "metadata": {},
     "output_type": "execute_result"
    }
   ],
   "source": [
    "artistlist = [x.replace(' ', '+') for x in all_albums['rsartist']]\n",
    "artistlist[0:3]"
   ]
  },
  {
   "cell_type": "code",
   "execution_count": 117,
   "id": "105adecb",
   "metadata": {},
   "outputs": [
    {
     "name": "stdout",
     "output_type": "stream",
     "text": [
      "No album found for The+Sun+Sessions by Elvis+Presley\n",
      "No album found for Are+You+Experienced by The+Jimi+Hendrix+Experience\n",
      "No album found for John+Lennon/Plastic+Ono+Band by John+Lennon+/+Plastic+Ono+Band\n",
      "No album found for Blue by Joni+Mitchell\n",
      "No album found for The+Anthology by Muddy+Waters\n",
      "No album found for At+Fillmore+East by The+Allman+Brothers+Band\n",
      "No album found for Here's+Little+Richard by Little+Richard\n",
      "No album found for Meet+The+Beatles! by The+Beatles\n",
      "No album found for Electric+Ladyland by The+Jimi+Hendrix+Experience\n",
      "No album found for Chronicle:+The+20+Greatest+Hits by Creedence+Clearwater+Revival\n",
      "No album found for Trout+Mask+Replica by Captain+Beefheart+&+His+Magic+Band\n",
      "No album found for Back+to+Mono+(1958-1969) by Phil+Spector\n",
      "No album found for After+the+Gold+Rush by Neil+Young\n",
      "No album found for Purple+Rain by Prince+and+the+Revolution\n",
      "No album found for Harvest by Neil+Young\n",
      "No album found for Axis:+Bold+as+Love by The+Jimi+Hendrix+Experience\n",
      "No album found for Sign+\"Peace\"+the+Times by Prince\n",
      "No album found for This+Year's+Model by Elvis+Costello\n",
      "No album found for There's+a+Riot+Goin'+On by Sly+&+The+Family+Stone\n",
      "No album found for Court+and+Spark by Joni+Mitchell\n",
      "No album found for Raw+Power by Iggy+and+The+Stooges\n",
      "No album found for Saturday+Night+Fever:+The+Original+Movie+Sound+Track by Various+Artists\n",
      "No album found for A+Christmas+Gift+for+You+From+Phil+Spector by Phil+Spector\n",
      "No album found for Gris-Gris by Dr.+John,+the+Night+Tripper\n",
      "No album found for The+B+52's+/+Play+Loud by The+B+52's\n",
      "No album found for Paul's+Boutique by Beastie+Boys\n",
      "No album found for The+Very+Best+of+Linda+Ronstadt by Linda+Ronstadt\n",
      "No album found for Let's+Get+It+On by Marvin+Gaye\n",
      "No album found for One+Nation+Under+a+Groove by Funkadelic\n",
      "No album found for The+Anthology:+1961-1977 by Curtis+Mayfield+and+The+Impressions\n",
      "No album found for The+Definitive+Collection by ABBA\n",
      "No album found for Blues+Breakers+With+Eric+Clapton+(\"The+Beano+Album\") by John+Mayall+&+The+Bluesbreakers\n",
      "No album found for Nuggets:+Original+Artyfacts+From+the+First+Psychedelic+Era,+1965-1968 by Various+Artists\n",
      "No album found for Everybody+Knows+This+Is+Nowhere by Neil+Young+&+Crazy+Horse\n",
      "No album found for Two+Steps+From+the+Blues by Bobby+\"Blue\"+Bland\n",
      "No album found for The+Ultimate+Collection by Patsy+Cline\n",
      "No album found for Mr.+Excitement! by Jackie+Wilson\n",
      "No album found for Run+D.M.C. by Run+D.M.C.\n",
      "No album found for All+Killer+No+Filler!+The+Jerry+Lee+Lewis+Anthology by Jerry+Lee+Lewis\n",
      "No album found for Live/Dead by The+Grateful+Dead\n",
      "No album found for Metallica+(\"The+Black+Album\") by Metallica\n",
      "No album found for Trans+Europa+Express by Kraftwerk\n",
      "No album found for Can't+Get+Enough by Barry+White\n",
      "No album found for I'm+Still+in+Love+With+You by Al+Green\n",
      "No album found for Something+Else+by+The+Kinks by The+Kinks\n",
      "No album found for The+Basement+Tapes by Bob+Dylan+and+the+Band\n",
      "No album found for We're+Only+in+It+for+the+Money by The+Mothers+of+Invention\n",
      "No album found for Weezer+(Blue+Album) by Weezer\n",
      "No album found for A+Hard+Day's+Night by The+Beatles\n",
      "No album found for Nothing's+Shocking by Jane's+Addiction\n",
      "No album found for Back+Stabbers by The+O'Jays\n",
      "No album found for Tonight's+the+Night by Neil+Young\n",
      "No album found for Squeezing+Out+Sparks by Graham+Parker+&+The+Rumour\n",
      "No album found for Rust+Never+Sleeps by Neil+Young+&+Crazy+Horse\n",
      "No album found for Honky+ChÃÂteau by Elton+John\n",
      "No album found for Substance+1987 by New+Order\n",
      "No album found for Whatever+People+Say+I+Am,+That's+What+I'm+Not by Arctic+Monkeys\n",
      "No album found for The+Ultimate+Collection:+1948-1990 by John+Lee+Hooker\n",
      "No album found for Anthology:+The+Best+of+The+Temptations by The+Temptations\n",
      "No album found for Dr.+John's+Gumbo by Dr.+John\n",
      "No album found for I+Do+Not+Want+What+I+Haven't+Got by Sinead+O'Connor\n",
      "No album found for Beauty+and+the+Beat by The+Go+Go's\n",
      "No album found for Band+on+the+Run by Paul+McCartney+&+Wings\n",
      "No album found for The+\"Chirping\"+Crickets by The+Crickets\n",
      "No album found for The+Best+of+the+Girl+Groups,+Volume+1 by Various+Artists\n",
      "No album found for Cheap+Trick+at+Budokan by Cheap+Trick\n",
      "No album found for Outlandos+d'Amour by The+Police\n",
      "No album found for Boys+Don't+Cry by The+Cure\n",
      "No album found for Getz+/+Gilberto by Stan+GetzÃÂ/ÃÂJoao+GilbertoÃÂfeaturingÃÂAntonio+Carlos+Jobim\n",
      "No album found for Third/Sister+Lovers by Big+Star\n",
      "No album found for Metal+Box by Public+Image+Ltd.\n",
      "No album found for Voodoo by D'Angelo\n",
      "No album found for That's+the+Way+of+the+World by Earth,+Wind+&+Fire\n",
      "No album found for Built+to+Last by The+Grateful+Dead\n",
      "No album found for The+Kinks+Present+a+Soap+Opera by The+Kinks\n",
      "No album found for Smooth+Noodle+Maps by Devo\n",
      "No album found for Dog+Eat+Dog by Joni+Mitchell\n",
      "No album found for Brothers+of+the+Road by The+Allman+Brothers+Band\n",
      "No album found for Fork+in+the+Road by Neil+Young\n",
      "No album found for The+Cosmos+Rocks by Queen\n",
      "No album found for Chestnut+Street+Incident by John+Mellencamp\n",
      "No album found for Latest+Record+Project,+Volume+1 by Van+Morrison\n",
      "No album found for Summer+in+Paradise by The+Beach+Boys\n",
      "No album found for Fun+in+Acapulco:+Original+Soundtrack by Elvis+Presley\n",
      "No album found for Unfinished+Music+No.+1:+Two+Virgins by John+Lennon+and+Yoko+Ono\n",
      "No album found for Forbidden by Black+Sabbath\n",
      "No album found for Metal+Magic by Pantera\n"
     ]
    },
    {
     "data": {
      "text/html": [
       "<div>\n",
       "<style scoped>\n",
       "    .dataframe tbody tr th:only-of-type {\n",
       "        vertical-align: middle;\n",
       "    }\n",
       "\n",
       "    .dataframe tbody tr th {\n",
       "        vertical-align: top;\n",
       "    }\n",
       "\n",
       "    .dataframe thead th {\n",
       "        text-align: right;\n",
       "    }\n",
       "</style>\n",
       "<table border=\"1\" class=\"dataframe\">\n",
       "  <thead>\n",
       "    <tr style=\"text-align: right;\">\n",
       "      <th></th>\n",
       "      <th>albumnamers</th>\n",
       "      <th>albumidspotify</th>\n",
       "      <th>albumnamespotify</th>\n",
       "      <th>artistnamespotify</th>\n",
       "      <th>artistidspotify</th>\n",
       "      <th>releasedate</th>\n",
       "      <th>totaltracks</th>\n",
       "    </tr>\n",
       "  </thead>\n",
       "  <tbody>\n",
       "    <tr>\n",
       "      <th>0</th>\n",
       "      <td>Sgt.+Pepper's+Lonely+Hearts+Club+Band</td>\n",
       "      <td>6QaVfG1pHYl1z15ZxkvVDW</td>\n",
       "      <td>Sgt. Pepper's Lonely Hearts Club Band (Remaste...</td>\n",
       "      <td>The Beatles</td>\n",
       "      <td>3WrFJ7ztbogyGnTHbHJFl2</td>\n",
       "      <td>1967-06-01</td>\n",
       "      <td>13.0</td>\n",
       "    </tr>\n",
       "    <tr>\n",
       "      <th>1</th>\n",
       "      <td>Pet+Sounds</td>\n",
       "      <td>6GphKx2QAPRoVGWE9D7ou8</td>\n",
       "      <td>Pet Sounds (Original Mono &amp; Stereo Mix)</td>\n",
       "      <td>The Beach Boys</td>\n",
       "      <td>3oDbviiivRWhXwIE8hxkVV</td>\n",
       "      <td>1966-06-16</td>\n",
       "      <td>27.0</td>\n",
       "    </tr>\n",
       "    <tr>\n",
       "      <th>2</th>\n",
       "      <td>Revolver</td>\n",
       "      <td>3PRoXYsngSwjEQWR5PsHWR</td>\n",
       "      <td>Revolver (Remastered)</td>\n",
       "      <td>The Beatles</td>\n",
       "      <td>3WrFJ7ztbogyGnTHbHJFl2</td>\n",
       "      <td>1966-08-05</td>\n",
       "      <td>14.0</td>\n",
       "    </tr>\n",
       "  </tbody>\n",
       "</table>\n",
       "</div>"
      ],
      "text/plain": [
       "                             albumnamers          albumidspotify  \\\n",
       "0  Sgt.+Pepper's+Lonely+Hearts+Club+Band  6QaVfG1pHYl1z15ZxkvVDW   \n",
       "1                             Pet+Sounds  6GphKx2QAPRoVGWE9D7ou8   \n",
       "2                               Revolver  3PRoXYsngSwjEQWR5PsHWR   \n",
       "\n",
       "                                    albumnamespotify artistnamespotify  \\\n",
       "0  Sgt. Pepper's Lonely Hearts Club Band (Remaste...       The Beatles   \n",
       "1            Pet Sounds (Original Mono & Stereo Mix)    The Beach Boys   \n",
       "2                              Revolver (Remastered)       The Beatles   \n",
       "\n",
       "          artistidspotify releasedate  totaltracks  \n",
       "0  3WrFJ7ztbogyGnTHbHJFl2  1967-06-01         13.0  \n",
       "1  3oDbviiivRWhXwIE8hxkVV  1966-06-16         27.0  \n",
       "2  3WrFJ7ztbogyGnTHbHJFl2  1966-08-05         14.0  "
      ]
     },
     "execution_count": 117,
     "metadata": {},
     "output_type": "execute_result"
    }
   ],
   "source": [
    "#function to get info\n",
    "\n",
    "data_list = []\n",
    "\n",
    "def get_album_info(artist_name, album_name):\n",
    "    try:\n",
    "        endpoint = 'https://api.spotify.com/v1/search'\n",
    "        params = {\n",
    "            'q': f'album:{album_name} artist:{artist_name}',\n",
    "            'type': 'album',\n",
    "            'market': 'US',\n",
    "            'limit': '1',\n",
    "            'offset': '0',\n",
    "        }\n",
    "        response = rq.get(endpoint, headers=headers, params=params)\n",
    "\n",
    "        if response.status_code == 200:\n",
    "            data = response.json()\n",
    "            if data['albums']['items']:\n",
    "                album_info = data['albums']['items'][0]\n",
    "                data_list.append({\n",
    "                    'albumnamers': album_name,\n",
    "                    'albumidspotify': album_info['id'],\n",
    "                    'albumnamespotify': album_info['name'],\n",
    "                    'artistnamespotify': album_info['artists'][0]['name'],\n",
    "                    'artistidspotify': album_info['artists'][0]['id'],\n",
    "                    'releasedate': album_info['release_date'],\n",
    "                    'totaltracks': album_info['total_tracks']\n",
    "                })\n",
    "            else:\n",
    "                data_list.append({\n",
    "                    'albumnamers': album_name,\n",
    "                    'albumidspotify': None,\n",
    "                    'albumnamespotify': None,\n",
    "                    'artistnamespotify': None,\n",
    "                    'artistidspotify': None,\n",
    "                    'releasedate': None,\n",
    "                    'totaltracks': None\n",
    "                })\n",
    "                print(f\"No album found for {album_name} by {artist_name}\")\n",
    "        else:\n",
    "            print(f\"Failed to retrieve album information for {album_name} by {artist_name}. Status code: {response.status_code}\")\n",
    "    except Exception as e:\n",
    "        print(f\"An error occurred: {e}\")\n",
    "\n",
    "#execute for the entire list \n",
    "for artist, album in zip(artistlist, albumlist):\n",
    "    get_album_info(artist, album)\n",
    "\n",
    "# Create a DataFrame\n",
    "df = pd.DataFrame(data_list)\n",
    "df.head(3)"
   ]
  },
  {
   "cell_type": "code",
   "execution_count": 118,
   "id": "ddce037c",
   "metadata": {},
   "outputs": [
    {
     "data": {
      "text/plain": [
       "(550, 7)"
      ]
     },
     "execution_count": 118,
     "metadata": {},
     "output_type": "execute_result"
    }
   ],
   "source": [
    "df.shape"
   ]
  },
  {
   "cell_type": "code",
   "execution_count": 119,
   "id": "4c027097",
   "metadata": {},
   "outputs": [],
   "source": [
    "df['albumnamers'] = df['albumnamers'].apply(lambda x: x.replace('+', ' ') if isinstance(x, str) else x)"
   ]
  },
  {
   "cell_type": "code",
   "execution_count": 120,
   "id": "56e289f6",
   "metadata": {},
   "outputs": [
    {
     "data": {
      "text/html": [
       "<div>\n",
       "<style scoped>\n",
       "    .dataframe tbody tr th:only-of-type {\n",
       "        vertical-align: middle;\n",
       "    }\n",
       "\n",
       "    .dataframe tbody tr th {\n",
       "        vertical-align: top;\n",
       "    }\n",
       "\n",
       "    .dataframe thead th {\n",
       "        text-align: right;\n",
       "    }\n",
       "</style>\n",
       "<table border=\"1\" class=\"dataframe\">\n",
       "  <thead>\n",
       "    <tr style=\"text-align: right;\">\n",
       "      <th></th>\n",
       "      <th>albumnamers</th>\n",
       "      <th>albumidspotify</th>\n",
       "      <th>albumnamespotify</th>\n",
       "      <th>artistnamespotify</th>\n",
       "      <th>artistidspotify</th>\n",
       "      <th>releasedate</th>\n",
       "      <th>totaltracks</th>\n",
       "    </tr>\n",
       "  </thead>\n",
       "  <tbody>\n",
       "    <tr>\n",
       "      <th>0</th>\n",
       "      <td>Sgt. Pepper's Lonely Hearts Club Band</td>\n",
       "      <td>6QaVfG1pHYl1z15ZxkvVDW</td>\n",
       "      <td>Sgt. Pepper's Lonely Hearts Club Band (Remaste...</td>\n",
       "      <td>The Beatles</td>\n",
       "      <td>3WrFJ7ztbogyGnTHbHJFl2</td>\n",
       "      <td>1967-06-01</td>\n",
       "      <td>13.0</td>\n",
       "    </tr>\n",
       "    <tr>\n",
       "      <th>1</th>\n",
       "      <td>Pet Sounds</td>\n",
       "      <td>6GphKx2QAPRoVGWE9D7ou8</td>\n",
       "      <td>Pet Sounds (Original Mono &amp; Stereo Mix)</td>\n",
       "      <td>The Beach Boys</td>\n",
       "      <td>3oDbviiivRWhXwIE8hxkVV</td>\n",
       "      <td>1966-06-16</td>\n",
       "      <td>27.0</td>\n",
       "    </tr>\n",
       "  </tbody>\n",
       "</table>\n",
       "</div>"
      ],
      "text/plain": [
       "                             albumnamers          albumidspotify  \\\n",
       "0  Sgt. Pepper's Lonely Hearts Club Band  6QaVfG1pHYl1z15ZxkvVDW   \n",
       "1                             Pet Sounds  6GphKx2QAPRoVGWE9D7ou8   \n",
       "\n",
       "                                    albumnamespotify artistnamespotify  \\\n",
       "0  Sgt. Pepper's Lonely Hearts Club Band (Remaste...       The Beatles   \n",
       "1            Pet Sounds (Original Mono & Stereo Mix)    The Beach Boys   \n",
       "\n",
       "          artistidspotify releasedate  totaltracks  \n",
       "0  3WrFJ7ztbogyGnTHbHJFl2  1967-06-01         13.0  \n",
       "1  3oDbviiivRWhXwIE8hxkVV  1966-06-16         27.0  "
      ]
     },
     "execution_count": 120,
     "metadata": {},
     "output_type": "execute_result"
    }
   ],
   "source": [
    "df.head(2)"
   ]
  },
  {
   "cell_type": "code",
   "execution_count": 121,
   "id": "a5f49969",
   "metadata": {},
   "outputs": [
    {
     "data": {
      "text/plain": [
       "albumnamers           0\n",
       "albumidspotify       87\n",
       "albumnamespotify     87\n",
       "artistnamespotify    87\n",
       "artistidspotify      87\n",
       "releasedate          87\n",
       "totaltracks          87\n",
       "dtype: int64"
      ]
     },
     "execution_count": 121,
     "metadata": {},
     "output_type": "execute_result"
    }
   ],
   "source": [
    "#we were unable to find information for 87 albums\n",
    "\n",
    "na_col = df.isnull().sum()\n",
    "na_col"
   ]
  },
  {
   "cell_type": "code",
   "execution_count": 122,
   "id": "4d4fb981",
   "metadata": {},
   "outputs": [],
   "source": [
    "df.to_csv('../data/clean/api_albums_clean.csv', index=False)"
   ]
  }
 ],
 "metadata": {
  "kernelspec": {
   "display_name": "clase",
   "language": "python",
   "name": "clase"
  },
  "language_info": {
   "codemirror_mode": {
    "name": "ipython",
    "version": 3
   },
   "file_extension": ".py",
   "mimetype": "text/x-python",
   "name": "python",
   "nbconvert_exporter": "python",
   "pygments_lexer": "ipython3",
   "version": "3.10.13"
  }
 },
 "nbformat": 4,
 "nbformat_minor": 5
}
