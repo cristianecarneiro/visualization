{
 "cells": [
  {
   "cell_type": "markdown",
   "id": "5c874fb5",
   "metadata": {},
   "source": [
    "## Import libraries"
   ]
  },
  {
   "cell_type": "code",
   "execution_count": 1,
   "id": "ddcd2367",
   "metadata": {},
   "outputs": [],
   "source": [
    "import pandas as pd\n",
    "import numpy as np\n",
    "\n",
    "import warnings\n",
    "warnings.filterwarnings('ignore')\n",
    "\n",
    "pd.set_option('display.max_columns', None)  # me muestre todas las columnas\n",
    "#pd.set_option('display.max_rows', None)  # me muestre todas las filas"
   ]
  },
  {
   "cell_type": "markdown",
   "id": "6894b4ed",
   "metadata": {},
   "source": [
    "## Import files"
   ]
  },
  {
   "cell_type": "code",
   "execution_count": 2,
   "id": "27e5128e",
   "metadata": {},
   "outputs": [
    {
     "data": {
      "text/html": [
       "<div>\n",
       "<style scoped>\n",
       "    .dataframe tbody tr th:only-of-type {\n",
       "        vertical-align: middle;\n",
       "    }\n",
       "\n",
       "    .dataframe tbody tr th {\n",
       "        vertical-align: top;\n",
       "    }\n",
       "\n",
       "    .dataframe thead th {\n",
       "        text-align: right;\n",
       "    }\n",
       "</style>\n",
       "<table border=\"1\" class=\"dataframe\">\n",
       "  <thead>\n",
       "    <tr style=\"text-align: right;\">\n",
       "      <th></th>\n",
       "      <th>artistidspotify</th>\n",
       "      <th>artistnamespotify</th>\n",
       "      <th>followers</th>\n",
       "      <th>popularity</th>\n",
       "      <th>genres</th>\n",
       "    </tr>\n",
       "  </thead>\n",
       "  <tbody>\n",
       "    <tr>\n",
       "      <th>0</th>\n",
       "      <td>3WrFJ7ztbogyGnTHbHJFl2</td>\n",
       "      <td>The Beatles</td>\n",
       "      <td>26469550.0</td>\n",
       "      <td>82.0</td>\n",
       "      <td>['beatlesque', 'british invasion', 'classic ro...</td>\n",
       "    </tr>\n",
       "    <tr>\n",
       "      <th>1</th>\n",
       "      <td>3oDbviiivRWhXwIE8hxkVV</td>\n",
       "      <td>The Beach Boys</td>\n",
       "      <td>4308475.0</td>\n",
       "      <td>68.0</td>\n",
       "      <td>['baroque pop', 'classic rock', 'folk rock', '...</td>\n",
       "    </tr>\n",
       "  </tbody>\n",
       "</table>\n",
       "</div>"
      ],
      "text/plain": [
       "          artistidspotify artistnamespotify   followers  popularity  \\\n",
       "0  3WrFJ7ztbogyGnTHbHJFl2       The Beatles  26469550.0        82.0   \n",
       "1  3oDbviiivRWhXwIE8hxkVV    The Beach Boys   4308475.0        68.0   \n",
       "\n",
       "                                              genres  \n",
       "0  ['beatlesque', 'british invasion', 'classic ro...  \n",
       "1  ['baroque pop', 'classic rock', 'folk rock', '...  "
      ]
     },
     "execution_count": 2,
     "metadata": {},
     "output_type": "execute_result"
    }
   ],
   "source": [
    "sqltable_artists = pd.read_csv('../data/clean/api_artists_clean.csv', encoding='latin1')\n",
    "sqltable_artists.head(2)"
   ]
  },
  {
   "cell_type": "code",
   "execution_count": 3,
   "id": "05613448",
   "metadata": {},
   "outputs": [
    {
     "data": {
      "text/plain": [
       "(254, 5)"
      ]
     },
     "execution_count": 3,
     "metadata": {},
     "output_type": "execute_result"
    }
   ],
   "source": [
    "sqltable_artists.shape"
   ]
  },
  {
   "cell_type": "markdown",
   "id": "27d551d5",
   "metadata": {},
   "source": [
    "## Clean NAs and duplicates"
   ]
  },
  {
   "cell_type": "code",
   "execution_count": 4,
   "id": "307e1a9f",
   "metadata": {},
   "outputs": [],
   "source": [
    "sqltable_artists.dropna(inplace=True)"
   ]
  },
  {
   "cell_type": "code",
   "execution_count": 5,
   "id": "cee06ce0",
   "metadata": {},
   "outputs": [
    {
     "data": {
      "text/plain": [
       "(253, 5)"
      ]
     },
     "execution_count": 5,
     "metadata": {},
     "output_type": "execute_result"
    }
   ],
   "source": [
    "sqltable_artists.shape"
   ]
  },
  {
   "cell_type": "code",
   "execution_count": 6,
   "id": "f5a7803a",
   "metadata": {},
   "outputs": [
    {
     "data": {
      "text/plain": [
       "False"
      ]
     },
     "execution_count": 6,
     "metadata": {},
     "output_type": "execute_result"
    }
   ],
   "source": [
    "sqltable_artists.duplicated().any()"
   ]
  },
  {
   "cell_type": "code",
   "execution_count": 7,
   "id": "942a22ea",
   "metadata": {},
   "outputs": [
    {
     "data": {
      "text/html": [
       "<div>\n",
       "<style scoped>\n",
       "    .dataframe tbody tr th:only-of-type {\n",
       "        vertical-align: middle;\n",
       "    }\n",
       "\n",
       "    .dataframe tbody tr th {\n",
       "        vertical-align: top;\n",
       "    }\n",
       "\n",
       "    .dataframe thead th {\n",
       "        text-align: right;\n",
       "    }\n",
       "</style>\n",
       "<table border=\"1\" class=\"dataframe\">\n",
       "  <thead>\n",
       "    <tr style=\"text-align: right;\">\n",
       "      <th></th>\n",
       "      <th>artistidspotify</th>\n",
       "      <th>artistnamespotify</th>\n",
       "      <th>followers</th>\n",
       "      <th>popularity</th>\n",
       "      <th>genres</th>\n",
       "    </tr>\n",
       "  </thead>\n",
       "  <tbody>\n",
       "    <tr>\n",
       "      <th>0</th>\n",
       "      <td>3WrFJ7ztbogyGnTHbHJFl2</td>\n",
       "      <td>The Beatles</td>\n",
       "      <td>26469550.0</td>\n",
       "      <td>82.0</td>\n",
       "      <td>beatlesque british invasion classic rock merse...</td>\n",
       "    </tr>\n",
       "    <tr>\n",
       "      <th>1</th>\n",
       "      <td>3oDbviiivRWhXwIE8hxkVV</td>\n",
       "      <td>The Beach Boys</td>\n",
       "      <td>4308475.0</td>\n",
       "      <td>68.0</td>\n",
       "      <td>baroque pop classic rock folk rock mellow gold...</td>\n",
       "    </tr>\n",
       "    <tr>\n",
       "      <th>2</th>\n",
       "      <td>74ASZWbe4lXaubB36ztrGX</td>\n",
       "      <td>Bob Dylan</td>\n",
       "      <td>6291947.0</td>\n",
       "      <td>68.0</td>\n",
       "      <td>classic rock country rock folk folk rock psych...</td>\n",
       "    </tr>\n",
       "    <tr>\n",
       "      <th>3</th>\n",
       "      <td>3koiLjNrgRTNbOwViDipeA</td>\n",
       "      <td>Marvin Gaye</td>\n",
       "      <td>5189557.0</td>\n",
       "      <td>71.0</td>\n",
       "      <td>classic soul motown neo soul northern soul qui...</td>\n",
       "    </tr>\n",
       "    <tr>\n",
       "      <th>4</th>\n",
       "      <td>22bE4uQ6baNwSHPVcDxLCe</td>\n",
       "      <td>The Rolling Stones</td>\n",
       "      <td>13455698.0</td>\n",
       "      <td>78.0</td>\n",
       "      <td>album rock british invasion classic rock rock</td>\n",
       "    </tr>\n",
       "  </tbody>\n",
       "</table>\n",
       "</div>"
      ],
      "text/plain": [
       "          artistidspotify   artistnamespotify   followers  popularity  \\\n",
       "0  3WrFJ7ztbogyGnTHbHJFl2         The Beatles  26469550.0        82.0   \n",
       "1  3oDbviiivRWhXwIE8hxkVV      The Beach Boys   4308475.0        68.0   \n",
       "2  74ASZWbe4lXaubB36ztrGX           Bob Dylan   6291947.0        68.0   \n",
       "3  3koiLjNrgRTNbOwViDipeA         Marvin Gaye   5189557.0        71.0   \n",
       "4  22bE4uQ6baNwSHPVcDxLCe  The Rolling Stones  13455698.0        78.0   \n",
       "\n",
       "                                              genres  \n",
       "0  beatlesque british invasion classic rock merse...  \n",
       "1  baroque pop classic rock folk rock mellow gold...  \n",
       "2  classic rock country rock folk folk rock psych...  \n",
       "3  classic soul motown neo soul northern soul qui...  \n",
       "4      album rock british invasion classic rock rock  "
      ]
     },
     "execution_count": 7,
     "metadata": {},
     "output_type": "execute_result"
    }
   ],
   "source": [
    "import re\n",
    "\n",
    "for col in sqltable_artists.columns:\n",
    "    sqltable_artists[col] = sqltable_artists[col].apply(lambda x: re.sub(r'[^\\w\\s]', '', x) if isinstance(x, str) else x)\n",
    "\n",
    "sqltable_artists.head()"
   ]
  },
  {
   "cell_type": "markdown",
   "id": "93a125b7",
   "metadata": {},
   "source": [
    "## Column names"
   ]
  },
  {
   "cell_type": "code",
   "execution_count": 8,
   "id": "0129dd9a",
   "metadata": {},
   "outputs": [
    {
     "data": {
      "text/plain": [
       "Index(['artistidspotify', 'artistnamespotify', 'followers', 'popularity',\n",
       "       'genres'],\n",
       "      dtype='object')"
      ]
     },
     "execution_count": 8,
     "metadata": {},
     "output_type": "execute_result"
    }
   ],
   "source": [
    "sqltable_artists.columns"
   ]
  },
  {
   "cell_type": "code",
   "execution_count": 9,
   "id": "fc704645",
   "metadata": {},
   "outputs": [],
   "source": [
    "finalcolumns = ['sp_artistid', 'sp_artistname', 'sp_followers', 'sp_popularity', 'sp_genres']"
   ]
  },
  {
   "cell_type": "code",
   "execution_count": 10,
   "id": "46edc4d7",
   "metadata": {},
   "outputs": [],
   "source": [
    "sqltable_artists.columns = finalcolumns"
   ]
  },
  {
   "cell_type": "code",
   "execution_count": 11,
   "id": "1dc746f2",
   "metadata": {},
   "outputs": [
    {
     "data": {
      "text/html": [
       "<div>\n",
       "<style scoped>\n",
       "    .dataframe tbody tr th:only-of-type {\n",
       "        vertical-align: middle;\n",
       "    }\n",
       "\n",
       "    .dataframe tbody tr th {\n",
       "        vertical-align: top;\n",
       "    }\n",
       "\n",
       "    .dataframe thead th {\n",
       "        text-align: right;\n",
       "    }\n",
       "</style>\n",
       "<table border=\"1\" class=\"dataframe\">\n",
       "  <thead>\n",
       "    <tr style=\"text-align: right;\">\n",
       "      <th></th>\n",
       "      <th>sp_artistid</th>\n",
       "      <th>sp_artistname</th>\n",
       "      <th>sp_followers</th>\n",
       "      <th>sp_popularity</th>\n",
       "      <th>sp_genres</th>\n",
       "    </tr>\n",
       "  </thead>\n",
       "  <tbody>\n",
       "    <tr>\n",
       "      <th>0</th>\n",
       "      <td>3WrFJ7ztbogyGnTHbHJFl2</td>\n",
       "      <td>The Beatles</td>\n",
       "      <td>26469550.0</td>\n",
       "      <td>82.0</td>\n",
       "      <td>beatlesque british invasion classic rock merse...</td>\n",
       "    </tr>\n",
       "  </tbody>\n",
       "</table>\n",
       "</div>"
      ],
      "text/plain": [
       "              sp_artistid sp_artistname  sp_followers  sp_popularity  \\\n",
       "0  3WrFJ7ztbogyGnTHbHJFl2   The Beatles    26469550.0           82.0   \n",
       "\n",
       "                                           sp_genres  \n",
       "0  beatlesque british invasion classic rock merse...  "
      ]
     },
     "execution_count": 11,
     "metadata": {},
     "output_type": "execute_result"
    }
   ],
   "source": [
    "sqltable_artists.head(1)"
   ]
  },
  {
   "cell_type": "markdown",
   "id": "53195f4a",
   "metadata": {},
   "source": [
    "## Reoder columns"
   ]
  },
  {
   "cell_type": "code",
   "execution_count": 12,
   "id": "2dea3375",
   "metadata": {},
   "outputs": [
    {
     "data": {
      "text/html": [
       "<div>\n",
       "<style scoped>\n",
       "    .dataframe tbody tr th:only-of-type {\n",
       "        vertical-align: middle;\n",
       "    }\n",
       "\n",
       "    .dataframe tbody tr th {\n",
       "        vertical-align: top;\n",
       "    }\n",
       "\n",
       "    .dataframe thead th {\n",
       "        text-align: right;\n",
       "    }\n",
       "</style>\n",
       "<table border=\"1\" class=\"dataframe\">\n",
       "  <thead>\n",
       "    <tr style=\"text-align: right;\">\n",
       "      <th></th>\n",
       "      <th>sp_artistid</th>\n",
       "      <th>sp_artistname</th>\n",
       "      <th>sp_followers</th>\n",
       "      <th>sp_popularity</th>\n",
       "    </tr>\n",
       "  </thead>\n",
       "  <tbody>\n",
       "    <tr>\n",
       "      <th>0</th>\n",
       "      <td>3WrFJ7ztbogyGnTHbHJFl2</td>\n",
       "      <td>The Beatles</td>\n",
       "      <td>26469550.0</td>\n",
       "      <td>82.0</td>\n",
       "    </tr>\n",
       "  </tbody>\n",
       "</table>\n",
       "</div>"
      ],
      "text/plain": [
       "              sp_artistid sp_artistname  sp_followers  sp_popularity\n",
       "0  3WrFJ7ztbogyGnTHbHJFl2   The Beatles    26469550.0           82.0"
      ]
     },
     "execution_count": 12,
     "metadata": {},
     "output_type": "execute_result"
    }
   ],
   "source": [
    "sqltable_artists = sqltable_artists.iloc[:, [0, 1, 2, 3]]\n",
    "sqltable_artists.head(1)"
   ]
  },
  {
   "cell_type": "markdown",
   "id": "75879cd1",
   "metadata": {},
   "source": [
    "## Data type"
   ]
  },
  {
   "cell_type": "code",
   "execution_count": 13,
   "id": "fc5dc175",
   "metadata": {},
   "outputs": [
    {
     "name": "stdout",
     "output_type": "stream",
     "text": [
      "<class 'pandas.core.frame.DataFrame'>\n",
      "Index: 253 entries, 0 to 253\n",
      "Data columns (total 4 columns):\n",
      " #   Column         Non-Null Count  Dtype  \n",
      "---  ------         --------------  -----  \n",
      " 0   sp_artistid    253 non-null    object \n",
      " 1   sp_artistname  253 non-null    object \n",
      " 2   sp_followers   253 non-null    float64\n",
      " 3   sp_popularity  253 non-null    float64\n",
      "dtypes: float64(2), object(2)\n",
      "memory usage: 9.9+ KB\n"
     ]
    }
   ],
   "source": [
    "sqltable_artists.info()"
   ]
  },
  {
   "cell_type": "markdown",
   "id": "3bbaed80",
   "metadata": {},
   "source": [
    "## Export "
   ]
  },
  {
   "cell_type": "code",
   "execution_count": 14,
   "id": "0c917fcd",
   "metadata": {},
   "outputs": [],
   "source": [
    "sqltable_artists.to_csv('../data/tableau/tableautable_artist.csv', index=False, encoding='latin1')"
   ]
  },
  {
   "cell_type": "code",
   "execution_count": null,
   "id": "e4571a3d",
   "metadata": {},
   "outputs": [],
   "source": []
  }
 ],
 "metadata": {
  "kernelspec": {
   "display_name": "clase",
   "language": "python",
   "name": "clase"
  },
  "language_info": {
   "codemirror_mode": {
    "name": "ipython",
    "version": 3
   },
   "file_extension": ".py",
   "mimetype": "text/x-python",
   "name": "python",
   "nbconvert_exporter": "python",
   "pygments_lexer": "ipython3",
   "version": "3.10.13"
  }
 },
 "nbformat": 4,
 "nbformat_minor": 5
}
