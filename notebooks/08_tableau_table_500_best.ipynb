{
 "cells": [
  {
   "cell_type": "markdown",
   "id": "3d080160",
   "metadata": {},
   "source": [
    "## Import libraries"
   ]
  },
  {
   "cell_type": "code",
   "execution_count": 42,
   "id": "0237b6da",
   "metadata": {},
   "outputs": [],
   "source": [
    "import pandas as pd\n",
    "import numpy as np\n",
    "\n",
    "import warnings\n",
    "warnings.filterwarnings('ignore')\n",
    "\n",
    "pd.set_option('display.max_columns', None)  # me muestre todas las columnas\n",
    "#pd.set_option('display.max_rows', None)  # me muestre todas las filas"
   ]
  },
  {
   "cell_type": "markdown",
   "id": "c660355c",
   "metadata": {},
   "source": [
    "## Import files"
   ]
  },
  {
   "cell_type": "code",
   "execution_count": 43,
   "id": "b963b984",
   "metadata": {},
   "outputs": [
    {
     "data": {
      "text/html": [
       "<div>\n",
       "<style scoped>\n",
       "    .dataframe tbody tr th:only-of-type {\n",
       "        vertical-align: middle;\n",
       "    }\n",
       "\n",
       "    .dataframe tbody tr th {\n",
       "        vertical-align: top;\n",
       "    }\n",
       "\n",
       "    .dataframe thead th {\n",
       "        text-align: right;\n",
       "    }\n",
       "</style>\n",
       "<table border=\"1\" class=\"dataframe\">\n",
       "  <thead>\n",
       "    <tr style=\"text-align: right;\">\n",
       "      <th></th>\n",
       "      <th>toprankingorder</th>\n",
       "      <th>albumnamers</th>\n",
       "      <th>artistnamers</th>\n",
       "      <th>yearrs</th>\n",
       "    </tr>\n",
       "  </thead>\n",
       "  <tbody>\n",
       "    <tr>\n",
       "      <th>0</th>\n",
       "      <td>1</td>\n",
       "      <td>Sgt. Pepper's Lonely Hearts Club Band</td>\n",
       "      <td>The Beatles</td>\n",
       "      <td>1967</td>\n",
       "    </tr>\n",
       "    <tr>\n",
       "      <th>1</th>\n",
       "      <td>2</td>\n",
       "      <td>Pet Sounds</td>\n",
       "      <td>The Beach Boys</td>\n",
       "      <td>1966</td>\n",
       "    </tr>\n",
       "    <tr>\n",
       "      <th>2</th>\n",
       "      <td>3</td>\n",
       "      <td>Revolver</td>\n",
       "      <td>The Beatles</td>\n",
       "      <td>1966</td>\n",
       "    </tr>\n",
       "  </tbody>\n",
       "</table>\n",
       "</div>"
      ],
      "text/plain": [
       "   toprankingorder                            albumnamers    artistnamers  \\\n",
       "0                1  Sgt. Pepper's Lonely Hearts Club Band     The Beatles   \n",
       "1                2                             Pet Sounds  The Beach Boys   \n",
       "2                3                               Revolver     The Beatles   \n",
       "\n",
       "   yearrs  \n",
       "0    1967  \n",
       "1    1966  \n",
       "2    1966  "
      ]
     },
     "execution_count": 43,
     "metadata": {},
     "output_type": "execute_result"
    }
   ],
   "source": [
    "top500 = pd.read_csv('../data/clean/DB_Kaggle_top500albums_clean.csv', encoding='latin1')\n",
    "top500.head(3)"
   ]
  },
  {
   "cell_type": "code",
   "execution_count": 44,
   "id": "58bfbdd3",
   "metadata": {},
   "outputs": [
    {
     "data": {
      "text/plain": [
       "Index(['toprankingorder', 'albumnamers', 'artistnamers', 'yearrs'], dtype='object')"
      ]
     },
     "execution_count": 44,
     "metadata": {},
     "output_type": "execute_result"
    }
   ],
   "source": [
    "top500.rename(columns={'album': 'albumnamers'}, inplace=True)\n",
    "top500.columns"
   ]
  },
  {
   "cell_type": "code",
   "execution_count": 45,
   "id": "24c4ceb5",
   "metadata": {},
   "outputs": [
    {
     "data": {
      "text/html": [
       "<div>\n",
       "<style scoped>\n",
       "    .dataframe tbody tr th:only-of-type {\n",
       "        vertical-align: middle;\n",
       "    }\n",
       "\n",
       "    .dataframe tbody tr th {\n",
       "        vertical-align: top;\n",
       "    }\n",
       "\n",
       "    .dataframe thead th {\n",
       "        text-align: right;\n",
       "    }\n",
       "</style>\n",
       "<table border=\"1\" class=\"dataframe\">\n",
       "  <thead>\n",
       "    <tr style=\"text-align: right;\">\n",
       "      <th></th>\n",
       "      <th>albumnamers</th>\n",
       "      <th>albumidspotify</th>\n",
       "      <th>albumnamespotify</th>\n",
       "      <th>artistnamespotify</th>\n",
       "      <th>artistidspotify</th>\n",
       "      <th>releasedate</th>\n",
       "      <th>totaltracks</th>\n",
       "    </tr>\n",
       "  </thead>\n",
       "  <tbody>\n",
       "    <tr>\n",
       "      <th>0</th>\n",
       "      <td>Sgt. Pepper's Lonely Hearts Club Band</td>\n",
       "      <td>6QaVfG1pHYl1z15ZxkvVDW</td>\n",
       "      <td>Sgt. Pepper's Lonely Hearts Club Band (Remaste...</td>\n",
       "      <td>The Beatles</td>\n",
       "      <td>3WrFJ7ztbogyGnTHbHJFl2</td>\n",
       "      <td>1967-06-01</td>\n",
       "      <td>13.0</td>\n",
       "    </tr>\n",
       "    <tr>\n",
       "      <th>1</th>\n",
       "      <td>Pet Sounds</td>\n",
       "      <td>6GphKx2QAPRoVGWE9D7ou8</td>\n",
       "      <td>Pet Sounds (Original Mono &amp; Stereo Mix)</td>\n",
       "      <td>The Beach Boys</td>\n",
       "      <td>3oDbviiivRWhXwIE8hxkVV</td>\n",
       "      <td>1966-06-16</td>\n",
       "      <td>27.0</td>\n",
       "    </tr>\n",
       "    <tr>\n",
       "      <th>2</th>\n",
       "      <td>Revolver</td>\n",
       "      <td>3PRoXYsngSwjEQWR5PsHWR</td>\n",
       "      <td>Revolver (Remastered)</td>\n",
       "      <td>The Beatles</td>\n",
       "      <td>3WrFJ7ztbogyGnTHbHJFl2</td>\n",
       "      <td>1966-08-05</td>\n",
       "      <td>14.0</td>\n",
       "    </tr>\n",
       "  </tbody>\n",
       "</table>\n",
       "</div>"
      ],
      "text/plain": [
       "                             albumnamers          albumidspotify  \\\n",
       "0  Sgt. Pepper's Lonely Hearts Club Band  6QaVfG1pHYl1z15ZxkvVDW   \n",
       "1                             Pet Sounds  6GphKx2QAPRoVGWE9D7ou8   \n",
       "2                               Revolver  3PRoXYsngSwjEQWR5PsHWR   \n",
       "\n",
       "                                    albumnamespotify artistnamespotify  \\\n",
       "0  Sgt. Pepper's Lonely Hearts Club Band (Remaste...       The Beatles   \n",
       "1            Pet Sounds (Original Mono & Stereo Mix)    The Beach Boys   \n",
       "2                              Revolver (Remastered)       The Beatles   \n",
       "\n",
       "          artistidspotify releasedate  totaltracks  \n",
       "0  3WrFJ7ztbogyGnTHbHJFl2  1967-06-01         13.0  \n",
       "1  3oDbviiivRWhXwIE8hxkVV  1966-06-16         27.0  \n",
       "2  3WrFJ7ztbogyGnTHbHJFl2  1966-08-05         14.0  "
      ]
     },
     "execution_count": 45,
     "metadata": {},
     "output_type": "execute_result"
    }
   ],
   "source": [
    "spotifyalbums = pd.read_csv('../data/clean/api_albums_clean.csv', encoding='latin1')\n",
    "spotifyalbums.head(3)"
   ]
  },
  {
   "cell_type": "markdown",
   "id": "ba27f3e3",
   "metadata": {},
   "source": [
    "## Merge tables"
   ]
  },
  {
   "cell_type": "code",
   "execution_count": 46,
   "id": "a0307f61",
   "metadata": {},
   "outputs": [],
   "source": [
    "sqltable_top500 = pd.merge(top500, spotifyalbums[['albumnamers', 'albumidspotify']], how='left', on='albumnamers')"
   ]
  },
  {
   "cell_type": "code",
   "execution_count": 47,
   "id": "c922035f",
   "metadata": {},
   "outputs": [
    {
     "data": {
      "text/html": [
       "<div>\n",
       "<style scoped>\n",
       "    .dataframe tbody tr th:only-of-type {\n",
       "        vertical-align: middle;\n",
       "    }\n",
       "\n",
       "    .dataframe tbody tr th {\n",
       "        vertical-align: top;\n",
       "    }\n",
       "\n",
       "    .dataframe thead th {\n",
       "        text-align: right;\n",
       "    }\n",
       "</style>\n",
       "<table border=\"1\" class=\"dataframe\">\n",
       "  <thead>\n",
       "    <tr style=\"text-align: right;\">\n",
       "      <th></th>\n",
       "      <th>toprankingorder</th>\n",
       "      <th>albumnamers</th>\n",
       "      <th>artistnamers</th>\n",
       "      <th>yearrs</th>\n",
       "      <th>albumidspotify</th>\n",
       "    </tr>\n",
       "  </thead>\n",
       "  <tbody>\n",
       "    <tr>\n",
       "      <th>0</th>\n",
       "      <td>1</td>\n",
       "      <td>Sgt. Pepper's Lonely Hearts Club Band</td>\n",
       "      <td>The Beatles</td>\n",
       "      <td>1967</td>\n",
       "      <td>6QaVfG1pHYl1z15ZxkvVDW</td>\n",
       "    </tr>\n",
       "    <tr>\n",
       "      <th>1</th>\n",
       "      <td>2</td>\n",
       "      <td>Pet Sounds</td>\n",
       "      <td>The Beach Boys</td>\n",
       "      <td>1966</td>\n",
       "      <td>6GphKx2QAPRoVGWE9D7ou8</td>\n",
       "    </tr>\n",
       "  </tbody>\n",
       "</table>\n",
       "</div>"
      ],
      "text/plain": [
       "   toprankingorder                            albumnamers    artistnamers  \\\n",
       "0                1  Sgt. Pepper's Lonely Hearts Club Band     The Beatles   \n",
       "1                2                             Pet Sounds  The Beach Boys   \n",
       "\n",
       "   yearrs          albumidspotify  \n",
       "0    1967  6QaVfG1pHYl1z15ZxkvVDW  \n",
       "1    1966  6GphKx2QAPRoVGWE9D7ou8  "
      ]
     },
     "execution_count": 47,
     "metadata": {},
     "output_type": "execute_result"
    }
   ],
   "source": [
    "sqltable_top500.head(2)"
   ]
  },
  {
   "cell_type": "code",
   "execution_count": 48,
   "id": "98da343e",
   "metadata": {},
   "outputs": [
    {
     "data": {
      "text/plain": [
       "(508, 5)"
      ]
     },
     "execution_count": 48,
     "metadata": {},
     "output_type": "execute_result"
    }
   ],
   "source": [
    "sqltable_top500.shape"
   ]
  },
  {
   "cell_type": "markdown",
   "id": "5be4cc7d",
   "metadata": {},
   "source": [
    "## Clean NAs and duplicates"
   ]
  },
  {
   "cell_type": "code",
   "execution_count": 49,
   "id": "9ff256da",
   "metadata": {},
   "outputs": [],
   "source": [
    "#clean NAs (some albums available in the RS DB were not found in Spotify)\n",
    "sqltable_top500.dropna(inplace=True)"
   ]
  },
  {
   "cell_type": "code",
   "execution_count": 50,
   "id": "ba753936",
   "metadata": {},
   "outputs": [
    {
     "data": {
      "text/plain": [
       "(435, 5)"
      ]
     },
     "execution_count": 50,
     "metadata": {},
     "output_type": "execute_result"
    }
   ],
   "source": [
    "sqltable_top500.shape"
   ]
  },
  {
   "cell_type": "code",
   "execution_count": 51,
   "id": "f8c0acfb",
   "metadata": {},
   "outputs": [
    {
     "data": {
      "text/plain": [
       "False"
      ]
     },
     "execution_count": 51,
     "metadata": {},
     "output_type": "execute_result"
    }
   ],
   "source": [
    "sqltable_top500.duplicated().any()"
   ]
  },
  {
   "cell_type": "code",
   "execution_count": 52,
   "id": "15e9738b",
   "metadata": {},
   "outputs": [
    {
     "data": {
      "text/html": [
       "<div>\n",
       "<style scoped>\n",
       "    .dataframe tbody tr th:only-of-type {\n",
       "        vertical-align: middle;\n",
       "    }\n",
       "\n",
       "    .dataframe tbody tr th {\n",
       "        vertical-align: top;\n",
       "    }\n",
       "\n",
       "    .dataframe thead th {\n",
       "        text-align: right;\n",
       "    }\n",
       "</style>\n",
       "<table border=\"1\" class=\"dataframe\">\n",
       "  <thead>\n",
       "    <tr style=\"text-align: right;\">\n",
       "      <th></th>\n",
       "      <th>toprankingorder</th>\n",
       "      <th>albumnamers</th>\n",
       "      <th>artistnamers</th>\n",
       "      <th>yearrs</th>\n",
       "      <th>albumidspotify</th>\n",
       "    </tr>\n",
       "  </thead>\n",
       "  <tbody>\n",
       "    <tr>\n",
       "      <th>0</th>\n",
       "      <td>1</td>\n",
       "      <td>Sgt Peppers Lonely Hearts Club Band</td>\n",
       "      <td>The Beatles</td>\n",
       "      <td>1967</td>\n",
       "      <td>6QaVfG1pHYl1z15ZxkvVDW</td>\n",
       "    </tr>\n",
       "    <tr>\n",
       "      <th>1</th>\n",
       "      <td>2</td>\n",
       "      <td>Pet Sounds</td>\n",
       "      <td>The Beach Boys</td>\n",
       "      <td>1966</td>\n",
       "      <td>6GphKx2QAPRoVGWE9D7ou8</td>\n",
       "    </tr>\n",
       "    <tr>\n",
       "      <th>2</th>\n",
       "      <td>3</td>\n",
       "      <td>Revolver</td>\n",
       "      <td>The Beatles</td>\n",
       "      <td>1966</td>\n",
       "      <td>3PRoXYsngSwjEQWR5PsHWR</td>\n",
       "    </tr>\n",
       "    <tr>\n",
       "      <th>3</th>\n",
       "      <td>4</td>\n",
       "      <td>Highway 61 Revisited</td>\n",
       "      <td>Bob Dylan</td>\n",
       "      <td>1965</td>\n",
       "      <td>6YabPKtZAjxwyWbuO9p4ZD</td>\n",
       "    </tr>\n",
       "    <tr>\n",
       "      <th>4</th>\n",
       "      <td>5</td>\n",
       "      <td>Rubber Soul</td>\n",
       "      <td>The Beatles</td>\n",
       "      <td>1965</td>\n",
       "      <td>50o7kf2wLwVmOTVYJOTplm</td>\n",
       "    </tr>\n",
       "  </tbody>\n",
       "</table>\n",
       "</div>"
      ],
      "text/plain": [
       "   toprankingorder                          albumnamers    artistnamers  \\\n",
       "0                1  Sgt Peppers Lonely Hearts Club Band     The Beatles   \n",
       "1                2                           Pet Sounds  The Beach Boys   \n",
       "2                3                             Revolver     The Beatles   \n",
       "3                4                 Highway 61 Revisited       Bob Dylan   \n",
       "4                5                          Rubber Soul     The Beatles   \n",
       "\n",
       "   yearrs          albumidspotify  \n",
       "0    1967  6QaVfG1pHYl1z15ZxkvVDW  \n",
       "1    1966  6GphKx2QAPRoVGWE9D7ou8  \n",
       "2    1966  3PRoXYsngSwjEQWR5PsHWR  \n",
       "3    1965  6YabPKtZAjxwyWbuO9p4ZD  \n",
       "4    1965  50o7kf2wLwVmOTVYJOTplm  "
      ]
     },
     "execution_count": 52,
     "metadata": {},
     "output_type": "execute_result"
    }
   ],
   "source": [
    "import re\n",
    "\n",
    "# Iterate over each column in the DataFrame\n",
    "for col in sqltable_top500.columns:\n",
    "    sqltable_top500[col] = sqltable_top500[col].apply(lambda x: re.sub(r'[^\\w\\s]', '', x) if isinstance(x, str) else x)\n",
    "\n",
    "# Display the updated DataFrame\n",
    "sqltable_top500.head()"
   ]
  },
  {
   "cell_type": "markdown",
   "id": "257f652b",
   "metadata": {},
   "source": [
    "## Column names"
   ]
  },
  {
   "cell_type": "code",
   "execution_count": 53,
   "id": "7fc11dbf",
   "metadata": {},
   "outputs": [
    {
     "data": {
      "text/plain": [
       "Index(['toprankingorder', 'albumnamers', 'artistnamers', 'yearrs',\n",
       "       'albumidspotify'],\n",
       "      dtype='object')"
      ]
     },
     "execution_count": 53,
     "metadata": {},
     "output_type": "execute_result"
    }
   ],
   "source": [
    "sqltable_top500.columns"
   ]
  },
  {
   "cell_type": "code",
   "execution_count": 54,
   "id": "d23d5bca",
   "metadata": {},
   "outputs": [],
   "source": [
    "finalcolumns = ['rs_toprankingorder', 'rs_albumname', 'rs_artist', 'rs_year', 'sp_albumid']"
   ]
  },
  {
   "cell_type": "code",
   "execution_count": 55,
   "id": "e7e162c9",
   "metadata": {},
   "outputs": [],
   "source": [
    "sqltable_top500.columns = finalcolumns"
   ]
  },
  {
   "cell_type": "code",
   "execution_count": 56,
   "id": "d2137db7",
   "metadata": {},
   "outputs": [
    {
     "data": {
      "text/html": [
       "<div>\n",
       "<style scoped>\n",
       "    .dataframe tbody tr th:only-of-type {\n",
       "        vertical-align: middle;\n",
       "    }\n",
       "\n",
       "    .dataframe tbody tr th {\n",
       "        vertical-align: top;\n",
       "    }\n",
       "\n",
       "    .dataframe thead th {\n",
       "        text-align: right;\n",
       "    }\n",
       "</style>\n",
       "<table border=\"1\" class=\"dataframe\">\n",
       "  <thead>\n",
       "    <tr style=\"text-align: right;\">\n",
       "      <th></th>\n",
       "      <th>rs_toprankingorder</th>\n",
       "      <th>rs_albumname</th>\n",
       "      <th>rs_artist</th>\n",
       "      <th>rs_year</th>\n",
       "      <th>sp_albumid</th>\n",
       "    </tr>\n",
       "  </thead>\n",
       "  <tbody>\n",
       "    <tr>\n",
       "      <th>0</th>\n",
       "      <td>1</td>\n",
       "      <td>Sgt Peppers Lonely Hearts Club Band</td>\n",
       "      <td>The Beatles</td>\n",
       "      <td>1967</td>\n",
       "      <td>6QaVfG1pHYl1z15ZxkvVDW</td>\n",
       "    </tr>\n",
       "  </tbody>\n",
       "</table>\n",
       "</div>"
      ],
      "text/plain": [
       "   rs_toprankingorder                         rs_albumname    rs_artist  \\\n",
       "0                   1  Sgt Peppers Lonely Hearts Club Band  The Beatles   \n",
       "\n",
       "   rs_year              sp_albumid  \n",
       "0     1967  6QaVfG1pHYl1z15ZxkvVDW  "
      ]
     },
     "execution_count": 56,
     "metadata": {},
     "output_type": "execute_result"
    }
   ],
   "source": [
    "sqltable_top500.head(1)"
   ]
  },
  {
   "cell_type": "markdown",
   "id": "8d6446c6",
   "metadata": {},
   "source": [
    "## Reoder columns"
   ]
  },
  {
   "cell_type": "code",
   "execution_count": 57,
   "id": "e1377508",
   "metadata": {},
   "outputs": [],
   "source": [
    "#sqltable_top500 = sqltable_top500.iloc[:, [0, 1, 2, 3, 4,5]]"
   ]
  },
  {
   "cell_type": "code",
   "execution_count": 58,
   "id": "355a03b4",
   "metadata": {},
   "outputs": [],
   "source": [
    "sqltable_top500['albums_sp_albumid'] = sqltable_top500['sp_albumid']"
   ]
  },
  {
   "cell_type": "code",
   "execution_count": 60,
   "id": "40af114e",
   "metadata": {},
   "outputs": [
    {
     "data": {
      "text/html": [
       "<div>\n",
       "<style scoped>\n",
       "    .dataframe tbody tr th:only-of-type {\n",
       "        vertical-align: middle;\n",
       "    }\n",
       "\n",
       "    .dataframe tbody tr th {\n",
       "        vertical-align: top;\n",
       "    }\n",
       "\n",
       "    .dataframe thead th {\n",
       "        text-align: right;\n",
       "    }\n",
       "</style>\n",
       "<table border=\"1\" class=\"dataframe\">\n",
       "  <thead>\n",
       "    <tr style=\"text-align: right;\">\n",
       "      <th></th>\n",
       "      <th>rs_toprankingorder</th>\n",
       "      <th>rs_albumname</th>\n",
       "      <th>rs_artist</th>\n",
       "      <th>rs_year</th>\n",
       "      <th>sp_albumid</th>\n",
       "      <th>albums_sp_albumid</th>\n",
       "    </tr>\n",
       "  </thead>\n",
       "  <tbody>\n",
       "    <tr>\n",
       "      <th>0</th>\n",
       "      <td>1</td>\n",
       "      <td>Sgt Peppers Lonely Hearts Club Band</td>\n",
       "      <td>The Beatles</td>\n",
       "      <td>1967</td>\n",
       "      <td>6QaVfG1pHYl1z15ZxkvVDW</td>\n",
       "      <td>6QaVfG1pHYl1z15ZxkvVDW</td>\n",
       "    </tr>\n",
       "  </tbody>\n",
       "</table>\n",
       "</div>"
      ],
      "text/plain": [
       "   rs_toprankingorder                         rs_albumname    rs_artist  \\\n",
       "0                   1  Sgt Peppers Lonely Hearts Club Band  The Beatles   \n",
       "\n",
       "   rs_year              sp_albumid       albums_sp_albumid  \n",
       "0     1967  6QaVfG1pHYl1z15ZxkvVDW  6QaVfG1pHYl1z15ZxkvVDW  "
      ]
     },
     "execution_count": 60,
     "metadata": {},
     "output_type": "execute_result"
    }
   ],
   "source": [
    "sqltable_top500.head(1)"
   ]
  },
  {
   "cell_type": "markdown",
   "id": "9da4a6c1",
   "metadata": {},
   "source": [
    "## Data type"
   ]
  },
  {
   "cell_type": "code",
   "execution_count": 61,
   "id": "c258c8d4",
   "metadata": {},
   "outputs": [
    {
     "name": "stdout",
     "output_type": "stream",
     "text": [
      "<class 'pandas.core.frame.DataFrame'>\n",
      "Index: 435 entries, 0 to 507\n",
      "Data columns (total 6 columns):\n",
      " #   Column              Non-Null Count  Dtype \n",
      "---  ------              --------------  ----- \n",
      " 0   rs_toprankingorder  435 non-null    int64 \n",
      " 1   rs_albumname        435 non-null    object\n",
      " 2   rs_artist           435 non-null    object\n",
      " 3   rs_year             435 non-null    int64 \n",
      " 4   sp_albumid          435 non-null    object\n",
      " 5   albums_sp_albumid   435 non-null    object\n",
      "dtypes: int64(2), object(4)\n",
      "memory usage: 23.8+ KB\n"
     ]
    }
   ],
   "source": [
    "sqltable_top500.info()"
   ]
  },
  {
   "cell_type": "code",
   "execution_count": 62,
   "id": "14b6c5a0",
   "metadata": {},
   "outputs": [],
   "source": [
    "sqltable_top500['rs_year'] = pd.to_datetime(sqltable_top500['rs_year'], format='%Y')"
   ]
  },
  {
   "cell_type": "code",
   "execution_count": 63,
   "id": "1e058fa1",
   "metadata": {},
   "outputs": [
    {
     "data": {
      "text/plain": [
       "dtype('<M8[ns]')"
      ]
     },
     "execution_count": 63,
     "metadata": {},
     "output_type": "execute_result"
    }
   ],
   "source": [
    "sqltable_top500['rs_year'].dtype"
   ]
  },
  {
   "cell_type": "markdown",
   "id": "62039491",
   "metadata": {},
   "source": [
    "## Export "
   ]
  },
  {
   "cell_type": "code",
   "execution_count": 65,
   "id": "d39ace6f",
   "metadata": {},
   "outputs": [],
   "source": [
    "sqltable_top500.to_csv('../data/tableau/tableautable_top500.csv', index=True, encoding='latin1')"
   ]
  }
 ],
 "metadata": {
  "kernelspec": {
   "display_name": "clase",
   "language": "python",
   "name": "clase"
  },
  "language_info": {
   "codemirror_mode": {
    "name": "ipython",
    "version": 3
   },
   "file_extension": ".py",
   "mimetype": "text/x-python",
   "name": "python",
   "nbconvert_exporter": "python",
   "pygments_lexer": "ipython3",
   "version": "3.10.13"
  }
 },
 "nbformat": 4,
 "nbformat_minor": 5
}
