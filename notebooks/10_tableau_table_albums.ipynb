{
 "cells": [
  {
   "cell_type": "markdown",
   "id": "5c874fb5",
   "metadata": {},
   "source": [
    "## Import libraries"
   ]
  },
  {
   "cell_type": "code",
   "execution_count": 1,
   "id": "ddcd2367",
   "metadata": {},
   "outputs": [],
   "source": [
    "import pandas as pd\n",
    "import numpy as np\n",
    "\n",
    "import warnings\n",
    "warnings.filterwarnings('ignore')\n",
    "\n",
    "pd.set_option('display.max_columns', None)  # me muestre todas las columnas\n",
    "#pd.set_option('display.max_rows', None)  # me muestre todas las filas"
   ]
  },
  {
   "cell_type": "markdown",
   "id": "6894b4ed",
   "metadata": {},
   "source": [
    "## Import files"
   ]
  },
  {
   "cell_type": "code",
   "execution_count": 2,
   "id": "27e5128e",
   "metadata": {},
   "outputs": [
    {
     "data": {
      "text/html": [
       "<div>\n",
       "<style scoped>\n",
       "    .dataframe tbody tr th:only-of-type {\n",
       "        vertical-align: middle;\n",
       "    }\n",
       "\n",
       "    .dataframe tbody tr th {\n",
       "        vertical-align: top;\n",
       "    }\n",
       "\n",
       "    .dataframe thead th {\n",
       "        text-align: right;\n",
       "    }\n",
       "</style>\n",
       "<table border=\"1\" class=\"dataframe\">\n",
       "  <thead>\n",
       "    <tr style=\"text-align: right;\">\n",
       "      <th></th>\n",
       "      <th>albumnamers</th>\n",
       "      <th>albumidspotify</th>\n",
       "      <th>albumnamespotify</th>\n",
       "      <th>artistnamespotify</th>\n",
       "      <th>artistidspotify</th>\n",
       "      <th>releasedate</th>\n",
       "      <th>totaltracks</th>\n",
       "    </tr>\n",
       "  </thead>\n",
       "  <tbody>\n",
       "    <tr>\n",
       "      <th>0</th>\n",
       "      <td>Sgt. Pepper's Lonely Hearts Club Band</td>\n",
       "      <td>6QaVfG1pHYl1z15ZxkvVDW</td>\n",
       "      <td>Sgt. Pepper's Lonely Hearts Club Band (Remaste...</td>\n",
       "      <td>The Beatles</td>\n",
       "      <td>3WrFJ7ztbogyGnTHbHJFl2</td>\n",
       "      <td>1967-06-01</td>\n",
       "      <td>13.0</td>\n",
       "    </tr>\n",
       "    <tr>\n",
       "      <th>1</th>\n",
       "      <td>Pet Sounds</td>\n",
       "      <td>6GphKx2QAPRoVGWE9D7ou8</td>\n",
       "      <td>Pet Sounds (Original Mono &amp; Stereo Mix)</td>\n",
       "      <td>The Beach Boys</td>\n",
       "      <td>3oDbviiivRWhXwIE8hxkVV</td>\n",
       "      <td>1966-06-16</td>\n",
       "      <td>27.0</td>\n",
       "    </tr>\n",
       "  </tbody>\n",
       "</table>\n",
       "</div>"
      ],
      "text/plain": [
       "                             albumnamers          albumidspotify  \\\n",
       "0  Sgt. Pepper's Lonely Hearts Club Band  6QaVfG1pHYl1z15ZxkvVDW   \n",
       "1                             Pet Sounds  6GphKx2QAPRoVGWE9D7ou8   \n",
       "\n",
       "                                    albumnamespotify artistnamespotify  \\\n",
       "0  Sgt. Pepper's Lonely Hearts Club Band (Remaste...       The Beatles   \n",
       "1            Pet Sounds (Original Mono & Stereo Mix)    The Beach Boys   \n",
       "\n",
       "          artistidspotify releasedate  totaltracks  \n",
       "0  3WrFJ7ztbogyGnTHbHJFl2  1967-06-01         13.0  \n",
       "1  3oDbviiivRWhXwIE8hxkVV  1966-06-16         27.0  "
      ]
     },
     "execution_count": 2,
     "metadata": {},
     "output_type": "execute_result"
    }
   ],
   "source": [
    "sqltable_albums = pd.read_csv('../data/clean/api_albums_clean.csv', encoding='latin1')\n",
    "sqltable_albums.head(2)"
   ]
  },
  {
   "cell_type": "code",
   "execution_count": 3,
   "id": "05613448",
   "metadata": {},
   "outputs": [
    {
     "data": {
      "text/plain": [
       "(550, 7)"
      ]
     },
     "execution_count": 3,
     "metadata": {},
     "output_type": "execute_result"
    }
   ],
   "source": [
    "sqltable_albums.shape"
   ]
  },
  {
   "cell_type": "markdown",
   "id": "27d551d5",
   "metadata": {},
   "source": [
    "## Clean NAs and duplicates"
   ]
  },
  {
   "cell_type": "code",
   "execution_count": 4,
   "id": "307e1a9f",
   "metadata": {},
   "outputs": [],
   "source": [
    "#clean NAs (some albums available in the RS DB were not found in Spotify)\n",
    "sqltable_albums.dropna(inplace=True)"
   ]
  },
  {
   "cell_type": "code",
   "execution_count": 5,
   "id": "cee06ce0",
   "metadata": {},
   "outputs": [
    {
     "data": {
      "text/plain": [
       "(463, 7)"
      ]
     },
     "execution_count": 5,
     "metadata": {},
     "output_type": "execute_result"
    }
   ],
   "source": [
    "sqltable_albums.shape"
   ]
  },
  {
   "cell_type": "code",
   "execution_count": 6,
   "id": "f5a7803a",
   "metadata": {},
   "outputs": [
    {
     "data": {
      "text/plain": [
       "False"
      ]
     },
     "execution_count": 6,
     "metadata": {},
     "output_type": "execute_result"
    }
   ],
   "source": [
    "sqltable_albums.duplicated().any()"
   ]
  },
  {
   "cell_type": "markdown",
   "id": "93a125b7",
   "metadata": {},
   "source": [
    "## Column names"
   ]
  },
  {
   "cell_type": "code",
   "execution_count": 7,
   "id": "0129dd9a",
   "metadata": {},
   "outputs": [
    {
     "data": {
      "text/plain": [
       "Index(['albumnamers', 'albumidspotify', 'albumnamespotify',\n",
       "       'artistnamespotify', 'artistidspotify', 'releasedate', 'totaltracks'],\n",
       "      dtype='object')"
      ]
     },
     "execution_count": 7,
     "metadata": {},
     "output_type": "execute_result"
    }
   ],
   "source": [
    "sqltable_albums.columns"
   ]
  },
  {
   "cell_type": "code",
   "execution_count": 8,
   "id": "fc704645",
   "metadata": {},
   "outputs": [],
   "source": [
    "finalcolumns = ['rs_albumname', 'sp_albumid', 'sp_albumname', 'sp_artistname', 'artists_sp_artistid','sp_releasedate','sp_totaltracks']"
   ]
  },
  {
   "cell_type": "code",
   "execution_count": 9,
   "id": "46edc4d7",
   "metadata": {},
   "outputs": [],
   "source": [
    "sqltable_albums.columns = finalcolumns"
   ]
  },
  {
   "cell_type": "code",
   "execution_count": 10,
   "id": "1dc746f2",
   "metadata": {},
   "outputs": [
    {
     "data": {
      "text/html": [
       "<div>\n",
       "<style scoped>\n",
       "    .dataframe tbody tr th:only-of-type {\n",
       "        vertical-align: middle;\n",
       "    }\n",
       "\n",
       "    .dataframe tbody tr th {\n",
       "        vertical-align: top;\n",
       "    }\n",
       "\n",
       "    .dataframe thead th {\n",
       "        text-align: right;\n",
       "    }\n",
       "</style>\n",
       "<table border=\"1\" class=\"dataframe\">\n",
       "  <thead>\n",
       "    <tr style=\"text-align: right;\">\n",
       "      <th></th>\n",
       "      <th>rs_albumname</th>\n",
       "      <th>sp_albumid</th>\n",
       "      <th>sp_albumname</th>\n",
       "      <th>sp_artistname</th>\n",
       "      <th>artists_sp_artistid</th>\n",
       "      <th>sp_releasedate</th>\n",
       "      <th>sp_totaltracks</th>\n",
       "    </tr>\n",
       "  </thead>\n",
       "  <tbody>\n",
       "    <tr>\n",
       "      <th>0</th>\n",
       "      <td>Sgt. Pepper's Lonely Hearts Club Band</td>\n",
       "      <td>6QaVfG1pHYl1z15ZxkvVDW</td>\n",
       "      <td>Sgt. Pepper's Lonely Hearts Club Band (Remaste...</td>\n",
       "      <td>The Beatles</td>\n",
       "      <td>3WrFJ7ztbogyGnTHbHJFl2</td>\n",
       "      <td>1967-06-01</td>\n",
       "      <td>13.0</td>\n",
       "    </tr>\n",
       "  </tbody>\n",
       "</table>\n",
       "</div>"
      ],
      "text/plain": [
       "                            rs_albumname              sp_albumid  \\\n",
       "0  Sgt. Pepper's Lonely Hearts Club Band  6QaVfG1pHYl1z15ZxkvVDW   \n",
       "\n",
       "                                        sp_albumname sp_artistname  \\\n",
       "0  Sgt. Pepper's Lonely Hearts Club Band (Remaste...   The Beatles   \n",
       "\n",
       "      artists_sp_artistid sp_releasedate  sp_totaltracks  \n",
       "0  3WrFJ7ztbogyGnTHbHJFl2     1967-06-01            13.0  "
      ]
     },
     "execution_count": 10,
     "metadata": {},
     "output_type": "execute_result"
    }
   ],
   "source": [
    "sqltable_albums.head(1)"
   ]
  },
  {
   "cell_type": "markdown",
   "id": "53195f4a",
   "metadata": {},
   "source": [
    "## Reoder columns"
   ]
  },
  {
   "cell_type": "code",
   "execution_count": 11,
   "id": "2dea3375",
   "metadata": {},
   "outputs": [
    {
     "data": {
      "text/html": [
       "<div>\n",
       "<style scoped>\n",
       "    .dataframe tbody tr th:only-of-type {\n",
       "        vertical-align: middle;\n",
       "    }\n",
       "\n",
       "    .dataframe tbody tr th {\n",
       "        vertical-align: top;\n",
       "    }\n",
       "\n",
       "    .dataframe thead th {\n",
       "        text-align: right;\n",
       "    }\n",
       "</style>\n",
       "<table border=\"1\" class=\"dataframe\">\n",
       "  <thead>\n",
       "    <tr style=\"text-align: right;\">\n",
       "      <th></th>\n",
       "      <th>sp_albumid</th>\n",
       "      <th>sp_albumname</th>\n",
       "      <th>sp_releasedate</th>\n",
       "      <th>sp_totaltracks</th>\n",
       "      <th>artists_sp_artistid</th>\n",
       "    </tr>\n",
       "  </thead>\n",
       "  <tbody>\n",
       "    <tr>\n",
       "      <th>0</th>\n",
       "      <td>6QaVfG1pHYl1z15ZxkvVDW</td>\n",
       "      <td>Sgt. Pepper's Lonely Hearts Club Band (Remaste...</td>\n",
       "      <td>1967-06-01</td>\n",
       "      <td>13.0</td>\n",
       "      <td>3WrFJ7ztbogyGnTHbHJFl2</td>\n",
       "    </tr>\n",
       "  </tbody>\n",
       "</table>\n",
       "</div>"
      ],
      "text/plain": [
       "               sp_albumid                                       sp_albumname  \\\n",
       "0  6QaVfG1pHYl1z15ZxkvVDW  Sgt. Pepper's Lonely Hearts Club Band (Remaste...   \n",
       "\n",
       "  sp_releasedate  sp_totaltracks     artists_sp_artistid  \n",
       "0     1967-06-01            13.0  3WrFJ7ztbogyGnTHbHJFl2  "
      ]
     },
     "execution_count": 11,
     "metadata": {},
     "output_type": "execute_result"
    }
   ],
   "source": [
    "sqltable_albums = sqltable_albums.iloc[:, [1, 2, 5, 6, 4]]\n",
    "sqltable_albums.head(1)"
   ]
  },
  {
   "cell_type": "markdown",
   "id": "75879cd1",
   "metadata": {},
   "source": [
    "## Data type"
   ]
  },
  {
   "cell_type": "code",
   "execution_count": 12,
   "id": "fc5dc175",
   "metadata": {},
   "outputs": [
    {
     "name": "stdout",
     "output_type": "stream",
     "text": [
      "<class 'pandas.core.frame.DataFrame'>\n",
      "Index: 463 entries, 0 to 549\n",
      "Data columns (total 5 columns):\n",
      " #   Column               Non-Null Count  Dtype  \n",
      "---  ------               --------------  -----  \n",
      " 0   sp_albumid           463 non-null    object \n",
      " 1   sp_albumname         463 non-null    object \n",
      " 2   sp_releasedate       463 non-null    object \n",
      " 3   sp_totaltracks       463 non-null    float64\n",
      " 4   artists_sp_artistid  463 non-null    object \n",
      "dtypes: float64(1), object(4)\n",
      "memory usage: 21.7+ KB\n"
     ]
    }
   ],
   "source": [
    "sqltable_albums.info()"
   ]
  },
  {
   "cell_type": "code",
   "execution_count": 13,
   "id": "bb73830d",
   "metadata": {},
   "outputs": [],
   "source": [
    "#sqltable_albums['sp_releasedate'] = pd.to_datetime(sqltable_albums['sp_releasedate'], format='%Y')"
   ]
  },
  {
   "cell_type": "code",
   "execution_count": 14,
   "id": "24f0dbe6",
   "metadata": {},
   "outputs": [
    {
     "data": {
      "text/plain": [
       "dtype('O')"
      ]
     },
     "execution_count": 14,
     "metadata": {},
     "output_type": "execute_result"
    }
   ],
   "source": [
    "sqltable_albums['sp_releasedate'].dtype"
   ]
  },
  {
   "cell_type": "code",
   "execution_count": 15,
   "id": "dc1dab28",
   "metadata": {},
   "outputs": [],
   "source": [
    "sqltable_albums['sp_totaltracks'] = sqltable_albums['sp_totaltracks'].astype(int)"
   ]
  },
  {
   "cell_type": "code",
   "execution_count": 16,
   "id": "55611522",
   "metadata": {},
   "outputs": [
    {
     "data": {
      "text/plain": [
       "dtype('int64')"
      ]
     },
     "execution_count": 16,
     "metadata": {},
     "output_type": "execute_result"
    }
   ],
   "source": [
    "sqltable_albums['sp_totaltracks'].dtype"
   ]
  },
  {
   "cell_type": "markdown",
   "id": "3bbaed80",
   "metadata": {},
   "source": [
    "## Export "
   ]
  },
  {
   "cell_type": "code",
   "execution_count": 17,
   "id": "ae0473ed",
   "metadata": {},
   "outputs": [],
   "source": [
    "sqltable_albums.to_csv('../data/tableau/tableautable_albums.csv', index=False, encoding='latin1')"
   ]
  },
  {
   "cell_type": "code",
   "execution_count": null,
   "id": "31df0ce1",
   "metadata": {},
   "outputs": [],
   "source": []
  }
 ],
 "metadata": {
  "kernelspec": {
   "display_name": "clase",
   "language": "python",
   "name": "clase"
  },
  "language_info": {
   "codemirror_mode": {
    "name": "ipython",
    "version": 3
   },
   "file_extension": ".py",
   "mimetype": "text/x-python",
   "name": "python",
   "nbconvert_exporter": "python",
   "pygments_lexer": "ipython3",
   "version": "3.10.13"
  }
 },
 "nbformat": 4,
 "nbformat_minor": 5
}
