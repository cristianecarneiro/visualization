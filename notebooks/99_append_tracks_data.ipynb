{
 "cells": [
  {
   "cell_type": "markdown",
   "id": "4dc13945",
   "metadata": {},
   "source": [
    "## Import libraries"
   ]
  },
  {
   "cell_type": "code",
   "execution_count": 27,
   "id": "eea0dc42",
   "metadata": {},
   "outputs": [],
   "source": [
    "import pandas as pd\n",
    "import numpy as np\n",
    "\n",
    "import warnings\n",
    "warnings.filterwarnings('ignore')\n",
    "\n",
    "pd.set_option('display.max_columns', None)  # me muestre todas las columnas\n",
    "#pd.set_option('display.max_rows', None)  # me muestre todas las filas"
   ]
  },
  {
   "cell_type": "markdown",
   "id": "803e7575",
   "metadata": {},
   "source": [
    "## Import files"
   ]
  },
  {
   "cell_type": "code",
   "execution_count": 28,
   "id": "bf727a64",
   "metadata": {},
   "outputs": [],
   "source": [
    "tracks0_30 = pd.read_csv('../data/clean/api_tracks1_clean_0_30.csv', encoding='latin1')"
   ]
  },
  {
   "cell_type": "code",
   "execution_count": 29,
   "id": "1aa65263",
   "metadata": {},
   "outputs": [],
   "source": [
    "tracks30_100 = pd.read_csv('../data/clean/api_tracks1_clean_30_100.csv', encoding='latin1')"
   ]
  },
  {
   "cell_type": "code",
   "execution_count": 30,
   "id": "49a80cc0",
   "metadata": {},
   "outputs": [],
   "source": [
    "tracks100_200 = pd.read_csv('../data/clean/api_tracks1_clean_100_200.csv', encoding='latin1')"
   ]
  },
  {
   "cell_type": "code",
   "execution_count": 31,
   "id": "bb1eb1a7",
   "metadata": {},
   "outputs": [],
   "source": [
    "tracks200_400 = pd.read_csv('../data/clean/api_tracks1_clean_200_400.csv', encoding='latin1')"
   ]
  },
  {
   "cell_type": "code",
   "execution_count": 34,
   "id": "42edbf90",
   "metadata": {},
   "outputs": [],
   "source": [
    "tracks400_800 = pd.read_csv('../data/clean/api_tracks2_clean_400_800.csv', encoding='latin1')"
   ]
  },
  {
   "cell_type": "code",
   "execution_count": 45,
   "id": "1e0bbf4a",
   "metadata": {},
   "outputs": [],
   "source": [
    "tracks800_1300 = pd.read_csv('../data/clean/api_tracks2_clean_800_1300.csv', encoding='latin1')"
   ]
  },
  {
   "cell_type": "markdown",
   "id": "30ab5b38",
   "metadata": {},
   "source": [
    "## Append data"
   ]
  },
  {
   "cell_type": "code",
   "execution_count": 46,
   "id": "c7b31622",
   "metadata": {},
   "outputs": [],
   "source": [
    "datasets = [tracks0_30, tracks30_100, tracks100_200, tracks200_400, tracks400_800, tracks800_1300]"
   ]
  },
  {
   "cell_type": "code",
   "execution_count": 47,
   "id": "50e3598f",
   "metadata": {},
   "outputs": [],
   "source": [
    "alltracks = pd.concat(datasets, ignore_index=True)"
   ]
  },
  {
   "cell_type": "code",
   "execution_count": 48,
   "id": "9196b320",
   "metadata": {},
   "outputs": [
    {
     "data": {
      "text/html": [
       "<div>\n",
       "<style scoped>\n",
       "    .dataframe tbody tr th:only-of-type {\n",
       "        vertical-align: middle;\n",
       "    }\n",
       "\n",
       "    .dataframe tbody tr th {\n",
       "        vertical-align: top;\n",
       "    }\n",
       "\n",
       "    .dataframe thead th {\n",
       "        text-align: right;\n",
       "    }\n",
       "</style>\n",
       "<table border=\"1\" class=\"dataframe\">\n",
       "  <thead>\n",
       "    <tr style=\"text-align: right;\">\n",
       "      <th></th>\n",
       "      <th>track_id</th>\n",
       "      <th>danceability</th>\n",
       "      <th>popularity</th>\n",
       "      <th>energy</th>\n",
       "      <th>acousticness</th>\n",
       "      <th>valence</th>\n",
       "      <th>instrumentalness</th>\n",
       "      <th>tempo</th>\n",
       "      <th>loudness</th>\n",
       "    </tr>\n",
       "  </thead>\n",
       "  <tbody>\n",
       "    <tr>\n",
       "      <th>0</th>\n",
       "      <td>4fUKE8EULjQdHF4zb0M8FO</td>\n",
       "      <td>0.451</td>\n",
       "      <td>NaN</td>\n",
       "      <td>0.673</td>\n",
       "      <td>0.0857</td>\n",
       "      <td>0.583</td>\n",
       "      <td>0.002250</td>\n",
       "      <td>95.513</td>\n",
       "      <td>-9.115</td>\n",
       "    </tr>\n",
       "    <tr>\n",
       "      <th>1</th>\n",
       "      <td>2RnPATK99oGOZygnD2GTO6</td>\n",
       "      <td>0.705</td>\n",
       "      <td>NaN</td>\n",
       "      <td>0.515</td>\n",
       "      <td>0.3650</td>\n",
       "      <td>0.803</td>\n",
       "      <td>0.000000</td>\n",
       "      <td>112.035</td>\n",
       "      <td>-9.343</td>\n",
       "    </tr>\n",
       "    <tr>\n",
       "      <th>2</th>\n",
       "      <td>25yQPHgC35WNnnOUqFhgVR</td>\n",
       "      <td>0.311</td>\n",
       "      <td>NaN</td>\n",
       "      <td>0.325</td>\n",
       "      <td>0.0469</td>\n",
       "      <td>0.668</td>\n",
       "      <td>0.000000</td>\n",
       "      <td>65.090</td>\n",
       "      <td>-9.042</td>\n",
       "    </tr>\n",
       "    <tr>\n",
       "      <th>3</th>\n",
       "      <td>3LtOmWpTXLhilL5odoKysR</td>\n",
       "      <td>0.632</td>\n",
       "      <td>NaN</td>\n",
       "      <td>0.471</td>\n",
       "      <td>0.3130</td>\n",
       "      <td>0.764</td>\n",
       "      <td>0.000005</td>\n",
       "      <td>121.672</td>\n",
       "      <td>-7.887</td>\n",
       "    </tr>\n",
       "    <tr>\n",
       "      <th>4</th>\n",
       "      <td>3pKKxkeB1pOUMHwWBmKc3Y</td>\n",
       "      <td>0.469</td>\n",
       "      <td>NaN</td>\n",
       "      <td>0.507</td>\n",
       "      <td>0.3820</td>\n",
       "      <td>0.619</td>\n",
       "      <td>0.000000</td>\n",
       "      <td>112.984</td>\n",
       "      <td>-8.917</td>\n",
       "    </tr>\n",
       "  </tbody>\n",
       "</table>\n",
       "</div>"
      ],
      "text/plain": [
       "                 track_id  danceability  popularity  energy  acousticness  \\\n",
       "0  4fUKE8EULjQdHF4zb0M8FO         0.451         NaN   0.673        0.0857   \n",
       "1  2RnPATK99oGOZygnD2GTO6         0.705         NaN   0.515        0.3650   \n",
       "2  25yQPHgC35WNnnOUqFhgVR         0.311         NaN   0.325        0.0469   \n",
       "3  3LtOmWpTXLhilL5odoKysR         0.632         NaN   0.471        0.3130   \n",
       "4  3pKKxkeB1pOUMHwWBmKc3Y         0.469         NaN   0.507        0.3820   \n",
       "\n",
       "   valence  instrumentalness    tempo  loudness  \n",
       "0    0.583          0.002250   95.513    -9.115  \n",
       "1    0.803          0.000000  112.035    -9.343  \n",
       "2    0.668          0.000000   65.090    -9.042  \n",
       "3    0.764          0.000005  121.672    -7.887  \n",
       "4    0.619          0.000000  112.984    -8.917  "
      ]
     },
     "execution_count": 48,
     "metadata": {},
     "output_type": "execute_result"
    }
   ],
   "source": [
    "alltracks.head()"
   ]
  },
  {
   "cell_type": "code",
   "execution_count": 49,
   "id": "face2a43",
   "metadata": {},
   "outputs": [],
   "source": [
    "alltracks = alltracks.drop(['popularity', 'instrumentalness'], axis=1)"
   ]
  },
  {
   "cell_type": "code",
   "execution_count": 50,
   "id": "585dc958",
   "metadata": {},
   "outputs": [
    {
     "data": {
      "text/html": [
       "<div>\n",
       "<style scoped>\n",
       "    .dataframe tbody tr th:only-of-type {\n",
       "        vertical-align: middle;\n",
       "    }\n",
       "\n",
       "    .dataframe tbody tr th {\n",
       "        vertical-align: top;\n",
       "    }\n",
       "\n",
       "    .dataframe thead th {\n",
       "        text-align: right;\n",
       "    }\n",
       "</style>\n",
       "<table border=\"1\" class=\"dataframe\">\n",
       "  <thead>\n",
       "    <tr style=\"text-align: right;\">\n",
       "      <th></th>\n",
       "      <th>track_id</th>\n",
       "      <th>danceability</th>\n",
       "      <th>energy</th>\n",
       "      <th>acousticness</th>\n",
       "      <th>valence</th>\n",
       "      <th>tempo</th>\n",
       "      <th>loudness</th>\n",
       "    </tr>\n",
       "  </thead>\n",
       "  <tbody>\n",
       "    <tr>\n",
       "      <th>0</th>\n",
       "      <td>4fUKE8EULjQdHF4zb0M8FO</td>\n",
       "      <td>0.451</td>\n",
       "      <td>0.673</td>\n",
       "      <td>0.0857</td>\n",
       "      <td>0.583</td>\n",
       "      <td>95.513</td>\n",
       "      <td>-9.115</td>\n",
       "    </tr>\n",
       "    <tr>\n",
       "      <th>1</th>\n",
       "      <td>2RnPATK99oGOZygnD2GTO6</td>\n",
       "      <td>0.705</td>\n",
       "      <td>0.515</td>\n",
       "      <td>0.3650</td>\n",
       "      <td>0.803</td>\n",
       "      <td>112.035</td>\n",
       "      <td>-9.343</td>\n",
       "    </tr>\n",
       "    <tr>\n",
       "      <th>2</th>\n",
       "      <td>25yQPHgC35WNnnOUqFhgVR</td>\n",
       "      <td>0.311</td>\n",
       "      <td>0.325</td>\n",
       "      <td>0.0469</td>\n",
       "      <td>0.668</td>\n",
       "      <td>65.090</td>\n",
       "      <td>-9.042</td>\n",
       "    </tr>\n",
       "    <tr>\n",
       "      <th>3</th>\n",
       "      <td>3LtOmWpTXLhilL5odoKysR</td>\n",
       "      <td>0.632</td>\n",
       "      <td>0.471</td>\n",
       "      <td>0.3130</td>\n",
       "      <td>0.764</td>\n",
       "      <td>121.672</td>\n",
       "      <td>-7.887</td>\n",
       "    </tr>\n",
       "    <tr>\n",
       "      <th>4</th>\n",
       "      <td>3pKKxkeB1pOUMHwWBmKc3Y</td>\n",
       "      <td>0.469</td>\n",
       "      <td>0.507</td>\n",
       "      <td>0.3820</td>\n",
       "      <td>0.619</td>\n",
       "      <td>112.984</td>\n",
       "      <td>-8.917</td>\n",
       "    </tr>\n",
       "  </tbody>\n",
       "</table>\n",
       "</div>"
      ],
      "text/plain": [
       "                 track_id  danceability  energy  acousticness  valence  \\\n",
       "0  4fUKE8EULjQdHF4zb0M8FO         0.451   0.673        0.0857    0.583   \n",
       "1  2RnPATK99oGOZygnD2GTO6         0.705   0.515        0.3650    0.803   \n",
       "2  25yQPHgC35WNnnOUqFhgVR         0.311   0.325        0.0469    0.668   \n",
       "3  3LtOmWpTXLhilL5odoKysR         0.632   0.471        0.3130    0.764   \n",
       "4  3pKKxkeB1pOUMHwWBmKc3Y         0.469   0.507        0.3820    0.619   \n",
       "\n",
       "     tempo  loudness  \n",
       "0   95.513    -9.115  \n",
       "1  112.035    -9.343  \n",
       "2   65.090    -9.042  \n",
       "3  121.672    -7.887  \n",
       "4  112.984    -8.917  "
      ]
     },
     "execution_count": 50,
     "metadata": {},
     "output_type": "execute_result"
    }
   ],
   "source": [
    "alltracks.head()"
   ]
  },
  {
   "cell_type": "code",
   "execution_count": 51,
   "id": "a5ec8f1c",
   "metadata": {},
   "outputs": [],
   "source": [
    "alltracks = alltracks.reset_index(drop=True)"
   ]
  },
  {
   "cell_type": "code",
   "execution_count": 52,
   "id": "492b6cbb",
   "metadata": {},
   "outputs": [
    {
     "data": {
      "text/plain": [
       "(1300, 7)"
      ]
     },
     "execution_count": 52,
     "metadata": {},
     "output_type": "execute_result"
    }
   ],
   "source": [
    "alltracks.shape"
   ]
  },
  {
   "cell_type": "markdown",
   "id": "c175e1b7",
   "metadata": {},
   "source": [
    "## Export file"
   ]
  },
  {
   "cell_type": "code",
   "execution_count": 53,
   "id": "4fb433b6",
   "metadata": {},
   "outputs": [],
   "source": [
    "alltracks.to_csv('../data/clean/api_alltracks_clean.csv', index=False)"
   ]
  },
  {
   "cell_type": "code",
   "execution_count": null,
   "id": "f3439bcd",
   "metadata": {},
   "outputs": [],
   "source": []
  }
 ],
 "metadata": {
  "kernelspec": {
   "display_name": "clase",
   "language": "python",
   "name": "clase"
  },
  "language_info": {
   "codemirror_mode": {
    "name": "ipython",
    "version": 3
   },
   "file_extension": ".py",
   "mimetype": "text/x-python",
   "name": "python",
   "nbconvert_exporter": "python",
   "pygments_lexer": "ipython3",
   "version": "3.10.13"
  }
 },
 "nbformat": 4,
 "nbformat_minor": 5
}
