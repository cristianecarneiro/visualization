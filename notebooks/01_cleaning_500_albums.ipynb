{
 "cells": [
  {
   "cell_type": "markdown",
   "id": "5f6a0ccb",
   "metadata": {},
   "source": [
    "## Import libraries"
   ]
  },
  {
   "cell_type": "code",
   "execution_count": 1,
   "id": "f1a141f4",
   "metadata": {},
   "outputs": [],
   "source": [
    "import pandas as pd\n",
    "import numpy as np\n",
    "\n",
    "import warnings\n",
    "warnings.filterwarnings('ignore')\n",
    "\n",
    "pd.set_option('display.max_columns', None)  \n",
    "#pd.set_option('display.max_rows', None)  "
   ]
  },
  {
   "cell_type": "markdown",
   "id": "de0adf1b",
   "metadata": {},
   "source": [
    "## Import dataset"
   ]
  },
  {
   "cell_type": "code",
   "execution_count": 2,
   "id": "635b6db7",
   "metadata": {},
   "outputs": [
    {
     "data": {
      "text/html": [
       "<div>\n",
       "<style scoped>\n",
       "    .dataframe tbody tr th:only-of-type {\n",
       "        vertical-align: middle;\n",
       "    }\n",
       "\n",
       "    .dataframe tbody tr th {\n",
       "        vertical-align: top;\n",
       "    }\n",
       "\n",
       "    .dataframe thead th {\n",
       "        text-align: right;\n",
       "    }\n",
       "</style>\n",
       "<table border=\"1\" class=\"dataframe\">\n",
       "  <thead>\n",
       "    <tr style=\"text-align: right;\">\n",
       "      <th></th>\n",
       "      <th>Number</th>\n",
       "      <th>Year</th>\n",
       "      <th>Album</th>\n",
       "      <th>Artist</th>\n",
       "      <th>Genre</th>\n",
       "      <th>Subgenre</th>\n",
       "    </tr>\n",
       "  </thead>\n",
       "  <tbody>\n",
       "    <tr>\n",
       "      <th>0</th>\n",
       "      <td>1</td>\n",
       "      <td>1967</td>\n",
       "      <td>Sgt. Pepper's Lonely Hearts Club Band</td>\n",
       "      <td>The Beatles</td>\n",
       "      <td>Rock</td>\n",
       "      <td>Rock &amp; Roll, Psychedelic Rock</td>\n",
       "    </tr>\n",
       "    <tr>\n",
       "      <th>1</th>\n",
       "      <td>2</td>\n",
       "      <td>1966</td>\n",
       "      <td>Pet Sounds</td>\n",
       "      <td>The Beach Boys</td>\n",
       "      <td>Rock</td>\n",
       "      <td>Pop Rock, Psychedelic Rock</td>\n",
       "    </tr>\n",
       "    <tr>\n",
       "      <th>2</th>\n",
       "      <td>3</td>\n",
       "      <td>1966</td>\n",
       "      <td>Revolver</td>\n",
       "      <td>The Beatles</td>\n",
       "      <td>Rock</td>\n",
       "      <td>Psychedelic Rock, Pop Rock</td>\n",
       "    </tr>\n",
       "  </tbody>\n",
       "</table>\n",
       "</div>"
      ],
      "text/plain": [
       "   Number  Year                                  Album          Artist Genre  \\\n",
       "0       1  1967  Sgt. Pepper's Lonely Hearts Club Band     The Beatles  Rock   \n",
       "1       2  1966                             Pet Sounds  The Beach Boys  Rock   \n",
       "2       3  1966                               Revolver     The Beatles  Rock   \n",
       "\n",
       "                        Subgenre  \n",
       "0  Rock & Roll, Psychedelic Rock  \n",
       "1     Pop Rock, Psychedelic Rock  \n",
       "2     Psychedelic Rock, Pop Rock  "
      ]
     },
     "execution_count": 2,
     "metadata": {},
     "output_type": "execute_result"
    }
   ],
   "source": [
    "data = pd.read_csv('../data/raw/DB_Kaggle_top500albums.csv', encoding='latin1')\n",
    "\n",
    "data.head(3)"
   ]
  },
  {
   "cell_type": "markdown",
   "id": "314fe47c",
   "metadata": {},
   "source": [
    "## Clean data"
   ]
  },
  {
   "cell_type": "code",
   "execution_count": 3,
   "id": "f88f19c1",
   "metadata": {},
   "outputs": [],
   "source": [
    "#ensure there are not spaces \n",
    "\n",
    "data['Album'] = data['Album'].apply(lambda x: x.strip() if isinstance(x, str) else x)"
   ]
  },
  {
   "cell_type": "code",
   "execution_count": 4,
   "id": "08b98ccc",
   "metadata": {},
   "outputs": [],
   "source": [
    "data['Artist'] = data['Artist'].apply(lambda x: x.strip() if isinstance(x, str) else x)"
   ]
  },
  {
   "cell_type": "code",
   "execution_count": 5,
   "id": "11e129d0",
   "metadata": {},
   "outputs": [
    {
     "data": {
      "text/plain": [
       "Index(['Number', 'Year', 'Album', 'Artist', 'Genre', 'Subgenre'], dtype='object')"
      ]
     },
     "execution_count": 5,
     "metadata": {},
     "output_type": "execute_result"
    }
   ],
   "source": [
    "#rename the columns \n",
    "\n",
    "data.columns"
   ]
  },
  {
   "cell_type": "code",
   "execution_count": 6,
   "id": "9e7821ee",
   "metadata": {},
   "outputs": [],
   "source": [
    "columns = ['toprankingorder', 'yearrs', 'albumnamers', 'artistnamers', 'genrers', 'subgenrers']"
   ]
  },
  {
   "cell_type": "code",
   "execution_count": 7,
   "id": "662b043f",
   "metadata": {},
   "outputs": [],
   "source": [
    "data.columns = columns"
   ]
  },
  {
   "cell_type": "code",
   "execution_count": 8,
   "id": "7cda4b59",
   "metadata": {},
   "outputs": [
    {
     "data": {
      "text/html": [
       "<div>\n",
       "<style scoped>\n",
       "    .dataframe tbody tr th:only-of-type {\n",
       "        vertical-align: middle;\n",
       "    }\n",
       "\n",
       "    .dataframe tbody tr th {\n",
       "        vertical-align: top;\n",
       "    }\n",
       "\n",
       "    .dataframe thead th {\n",
       "        text-align: right;\n",
       "    }\n",
       "</style>\n",
       "<table border=\"1\" class=\"dataframe\">\n",
       "  <thead>\n",
       "    <tr style=\"text-align: right;\">\n",
       "      <th></th>\n",
       "      <th>toprankingorder</th>\n",
       "      <th>yearrs</th>\n",
       "      <th>albumnamers</th>\n",
       "      <th>artistnamers</th>\n",
       "      <th>genrers</th>\n",
       "      <th>subgenrers</th>\n",
       "    </tr>\n",
       "  </thead>\n",
       "  <tbody>\n",
       "    <tr>\n",
       "      <th>0</th>\n",
       "      <td>1</td>\n",
       "      <td>1967</td>\n",
       "      <td>Sgt. Pepper's Lonely Hearts Club Band</td>\n",
       "      <td>The Beatles</td>\n",
       "      <td>Rock</td>\n",
       "      <td>Rock &amp; Roll, Psychedelic Rock</td>\n",
       "    </tr>\n",
       "    <tr>\n",
       "      <th>1</th>\n",
       "      <td>2</td>\n",
       "      <td>1966</td>\n",
       "      <td>Pet Sounds</td>\n",
       "      <td>The Beach Boys</td>\n",
       "      <td>Rock</td>\n",
       "      <td>Pop Rock, Psychedelic Rock</td>\n",
       "    </tr>\n",
       "    <tr>\n",
       "      <th>2</th>\n",
       "      <td>3</td>\n",
       "      <td>1966</td>\n",
       "      <td>Revolver</td>\n",
       "      <td>The Beatles</td>\n",
       "      <td>Rock</td>\n",
       "      <td>Psychedelic Rock, Pop Rock</td>\n",
       "    </tr>\n",
       "  </tbody>\n",
       "</table>\n",
       "</div>"
      ],
      "text/plain": [
       "   toprankingorder  yearrs                            albumnamers  \\\n",
       "0                1    1967  Sgt. Pepper's Lonely Hearts Club Band   \n",
       "1                2    1966                             Pet Sounds   \n",
       "2                3    1966                               Revolver   \n",
       "\n",
       "     artistnamers genrers                     subgenrers  \n",
       "0     The Beatles    Rock  Rock & Roll, Psychedelic Rock  \n",
       "1  The Beach Boys    Rock     Pop Rock, Psychedelic Rock  \n",
       "2     The Beatles    Rock     Psychedelic Rock, Pop Rock  "
      ]
     },
     "execution_count": 8,
     "metadata": {},
     "output_type": "execute_result"
    }
   ],
   "source": [
    "data.head(3)"
   ]
  },
  {
   "cell_type": "code",
   "execution_count": 9,
   "id": "669174c0",
   "metadata": {},
   "outputs": [
    {
     "name": "stdout",
     "output_type": "stream",
     "text": [
      "<class 'pandas.core.frame.DataFrame'>\n",
      "RangeIndex: 500 entries, 0 to 499\n",
      "Data columns (total 6 columns):\n",
      " #   Column           Non-Null Count  Dtype \n",
      "---  ------           --------------  ----- \n",
      " 0   toprankingorder  500 non-null    int64 \n",
      " 1   yearrs           500 non-null    int64 \n",
      " 2   albumnamers      500 non-null    object\n",
      " 3   artistnamers     500 non-null    object\n",
      " 4   genrers          500 non-null    object\n",
      " 5   subgenrers       471 non-null    object\n",
      "dtypes: int64(2), object(4)\n",
      "memory usage: 23.6+ KB\n"
     ]
    }
   ],
   "source": [
    "#check datatype\n",
    "\n",
    "data.info()"
   ]
  },
  {
   "cell_type": "code",
   "execution_count": 10,
   "id": "b685ff08",
   "metadata": {},
   "outputs": [],
   "source": [
    "data = data.iloc[:, [0, 2, 3,1]]"
   ]
  },
  {
   "cell_type": "code",
   "execution_count": 11,
   "id": "e866f603",
   "metadata": {},
   "outputs": [
    {
     "data": {
      "text/html": [
       "<div>\n",
       "<style scoped>\n",
       "    .dataframe tbody tr th:only-of-type {\n",
       "        vertical-align: middle;\n",
       "    }\n",
       "\n",
       "    .dataframe tbody tr th {\n",
       "        vertical-align: top;\n",
       "    }\n",
       "\n",
       "    .dataframe thead th {\n",
       "        text-align: right;\n",
       "    }\n",
       "</style>\n",
       "<table border=\"1\" class=\"dataframe\">\n",
       "  <thead>\n",
       "    <tr style=\"text-align: right;\">\n",
       "      <th></th>\n",
       "      <th>toprankingorder</th>\n",
       "      <th>albumnamers</th>\n",
       "      <th>artistnamers</th>\n",
       "      <th>yearrs</th>\n",
       "    </tr>\n",
       "  </thead>\n",
       "  <tbody>\n",
       "    <tr>\n",
       "      <th>0</th>\n",
       "      <td>1</td>\n",
       "      <td>Sgt. Pepper's Lonely Hearts Club Band</td>\n",
       "      <td>The Beatles</td>\n",
       "      <td>1967</td>\n",
       "    </tr>\n",
       "    <tr>\n",
       "      <th>1</th>\n",
       "      <td>2</td>\n",
       "      <td>Pet Sounds</td>\n",
       "      <td>The Beach Boys</td>\n",
       "      <td>1966</td>\n",
       "    </tr>\n",
       "    <tr>\n",
       "      <th>2</th>\n",
       "      <td>3</td>\n",
       "      <td>Revolver</td>\n",
       "      <td>The Beatles</td>\n",
       "      <td>1966</td>\n",
       "    </tr>\n",
       "    <tr>\n",
       "      <th>3</th>\n",
       "      <td>4</td>\n",
       "      <td>Highway 61 Revisited</td>\n",
       "      <td>Bob Dylan</td>\n",
       "      <td>1965</td>\n",
       "    </tr>\n",
       "    <tr>\n",
       "      <th>4</th>\n",
       "      <td>5</td>\n",
       "      <td>Rubber Soul</td>\n",
       "      <td>The Beatles</td>\n",
       "      <td>1965</td>\n",
       "    </tr>\n",
       "  </tbody>\n",
       "</table>\n",
       "</div>"
      ],
      "text/plain": [
       "   toprankingorder                            albumnamers    artistnamers  \\\n",
       "0                1  Sgt. Pepper's Lonely Hearts Club Band     The Beatles   \n",
       "1                2                             Pet Sounds  The Beach Boys   \n",
       "2                3                               Revolver     The Beatles   \n",
       "3                4                   Highway 61 Revisited       Bob Dylan   \n",
       "4                5                            Rubber Soul     The Beatles   \n",
       "\n",
       "   yearrs  \n",
       "0    1967  \n",
       "1    1966  \n",
       "2    1966  \n",
       "3    1965  \n",
       "4    1965  "
      ]
     },
     "execution_count": 11,
     "metadata": {},
     "output_type": "execute_result"
    }
   ],
   "source": [
    "data.head()"
   ]
  },
  {
   "cell_type": "code",
   "execution_count": 12,
   "id": "dacac3cb",
   "metadata": {},
   "outputs": [],
   "source": [
    "data.to_csv('../data/clean/DB_Kaggle_top500albums_clean.csv', index=False)"
   ]
  }
 ],
 "metadata": {
  "kernelspec": {
   "display_name": "clase",
   "language": "python",
   "name": "clase"
  },
  "language_info": {
   "codemirror_mode": {
    "name": "ipython",
    "version": 3
   },
   "file_extension": ".py",
   "mimetype": "text/x-python",
   "name": "python",
   "nbconvert_exporter": "python",
   "pygments_lexer": "ipython3",
   "version": "3.10.13"
  }
 },
 "nbformat": 4,
 "nbformat_minor": 5
}
