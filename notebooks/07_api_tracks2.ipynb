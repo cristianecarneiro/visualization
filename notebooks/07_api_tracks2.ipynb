{
 "cells": [
  {
   "cell_type": "markdown",
   "id": "ebacb433",
   "metadata": {},
   "source": [
    "### Importing libraries"
   ]
  },
  {
   "cell_type": "code",
   "execution_count": 20,
   "id": "1e4976af",
   "metadata": {},
   "outputs": [],
   "source": [
    "import pandas as pd\n",
    "import numpy as np\n",
    "import time \n",
    "\n",
    "import warnings\n",
    "warnings.filterwarnings('ignore')\n",
    "\n",
    "pd.set_option('display.max_columns', None)  # me muestre todas las columnas\n",
    "#pd.set_option('display.max_rows', None)  # me muestre todas las filas"
   ]
  },
  {
   "cell_type": "markdown",
   "id": "9258ec38",
   "metadata": {},
   "source": [
    "### Getting target list "
   ]
  },
  {
   "cell_type": "code",
   "execution_count": 21,
   "id": "538599b8",
   "metadata": {},
   "outputs": [],
   "source": [
    "datatracks = pd.read_csv('../data/clean/api_tracks1_clean.csv', encoding='latin1')"
   ]
  },
  {
   "cell_type": "code",
   "execution_count": 22,
   "id": "7dc272fd",
   "metadata": {},
   "outputs": [
    {
     "data": {
      "text/html": [
       "<div>\n",
       "<style scoped>\n",
       "    .dataframe tbody tr th:only-of-type {\n",
       "        vertical-align: middle;\n",
       "    }\n",
       "\n",
       "    .dataframe tbody tr th {\n",
       "        vertical-align: top;\n",
       "    }\n",
       "\n",
       "    .dataframe thead th {\n",
       "        text-align: right;\n",
       "    }\n",
       "</style>\n",
       "<table border=\"1\" class=\"dataframe\">\n",
       "  <thead>\n",
       "    <tr style=\"text-align: right;\">\n",
       "      <th></th>\n",
       "      <th>track_id</th>\n",
       "      <th>track_name</th>\n",
       "      <th>album_id</th>\n",
       "      <th>artist_id</th>\n",
       "      <th>artist_name</th>\n",
       "    </tr>\n",
       "  </thead>\n",
       "  <tbody>\n",
       "    <tr>\n",
       "      <th>0</th>\n",
       "      <td>4fUKE8EULjQdHF4zb0M8FO</td>\n",
       "      <td>Sgt. Pepper's Lonely Hearts Club Band - Remast...</td>\n",
       "      <td>6QaVfG1pHYl1z15ZxkvVDW</td>\n",
       "      <td>3WrFJ7ztbogyGnTHbHJFl2</td>\n",
       "      <td>The Beatles</td>\n",
       "    </tr>\n",
       "    <tr>\n",
       "      <th>1</th>\n",
       "      <td>2RnPATK99oGOZygnD2GTO6</td>\n",
       "      <td>With A Little Help From My Friends - Remastere...</td>\n",
       "      <td>6QaVfG1pHYl1z15ZxkvVDW</td>\n",
       "      <td>3WrFJ7ztbogyGnTHbHJFl2</td>\n",
       "      <td>The Beatles</td>\n",
       "    </tr>\n",
       "  </tbody>\n",
       "</table>\n",
       "</div>"
      ],
      "text/plain": [
       "                 track_id                                         track_name  \\\n",
       "0  4fUKE8EULjQdHF4zb0M8FO  Sgt. Pepper's Lonely Hearts Club Band - Remast...   \n",
       "1  2RnPATK99oGOZygnD2GTO6  With A Little Help From My Friends - Remastere...   \n",
       "\n",
       "                 album_id               artist_id  artist_name  \n",
       "0  6QaVfG1pHYl1z15ZxkvVDW  3WrFJ7ztbogyGnTHbHJFl2  The Beatles  \n",
       "1  6QaVfG1pHYl1z15ZxkvVDW  3WrFJ7ztbogyGnTHbHJFl2  The Beatles  "
      ]
     },
     "execution_count": 22,
     "metadata": {},
     "output_type": "execute_result"
    }
   ],
   "source": [
    "datatracks.head(2)"
   ]
  },
  {
   "cell_type": "code",
   "execution_count": 23,
   "id": "449516f7",
   "metadata": {},
   "outputs": [],
   "source": [
    "track_ids = datatracks['track_id'].unique().tolist()"
   ]
  },
  {
   "cell_type": "code",
   "execution_count": 24,
   "id": "9164dda7",
   "metadata": {},
   "outputs": [
    {
     "data": {
      "text/plain": [
       "['4fUKE8EULjQdHF4zb0M8FO', '2RnPATK99oGOZygnD2GTO6']"
      ]
     },
     "execution_count": 24,
     "metadata": {},
     "output_type": "execute_result"
    }
   ],
   "source": [
    "track_ids[0:2]"
   ]
  },
  {
   "cell_type": "markdown",
   "id": "afe829e4",
   "metadata": {},
   "source": [
    "### Spotify Connection "
   ]
  },
  {
   "cell_type": "code",
   "execution_count": 25,
   "id": "1fc27d37",
   "metadata": {},
   "outputs": [],
   "source": [
    "#%pip install pyarrow\n",
    "#%pip install joblib\n",
    "#%pip install tqdm\n",
    "#%pip install spotipy\n",
    "#%pip install python-dotenv\n",
    "#%pip install requests "
   ]
  },
  {
   "cell_type": "code",
   "execution_count": 26,
   "id": "a163f66c",
   "metadata": {},
   "outputs": [],
   "source": [
    "import requests as rq\n",
    "import pyarrow\n",
    "from joblib import Parallel, delayed\n",
    "from tqdm import tqdm\n",
    "import pymongo\n",
    "from passwords import *"
   ]
  },
  {
   "cell_type": "code",
   "execution_count": 27,
   "id": "8e634c8c",
   "metadata": {},
   "outputs": [
    {
     "data": {
      "text/plain": [
       "<Response [200]>"
      ]
     },
     "execution_count": 27,
     "metadata": {},
     "output_type": "execute_result"
    }
   ],
   "source": [
    "# Obtener el TOKEN\n",
    "\n",
    "AUTH_URL = \"https://accounts.spotify.com/api/token\"\n",
    "\n",
    "creds = {\n",
    "    \"grant_type\": \"client_credentials\",\n",
    "    \"client_id\": Client_ID,\n",
    "    \"client_secret\": Client_secret\n",
    "}\n",
    "\n",
    "response = rq.post(AUTH_URL, \n",
    "                         data=creds, \n",
    "                         headers={\"Content-Type\": \"application/x-www-form-urlencoded\"})\n",
    "\n",
    "\n",
    "TOKEN = response.json()['access_token']\n",
    "\n",
    "# Conexión con la API\n",
    "\n",
    "url = \"https://api.spotify.com/\"\n",
    "\n",
    "headers = {\"Authorization\": f'Bearer {TOKEN}'}\n",
    "\n",
    "response = rq.get(url,headers=headers)\n",
    "response"
   ]
  },
  {
   "cell_type": "markdown",
   "id": "7bed4bf5",
   "metadata": {},
   "source": [
    "### Getting Tracks Information "
   ]
  },
  {
   "cell_type": "code",
   "execution_count": 28,
   "id": "c87a543a",
   "metadata": {},
   "outputs": [],
   "source": [
    "track_ids = datatracks['track_id'].unique().tolist()"
   ]
  },
  {
   "cell_type": "code",
   "execution_count": 29,
   "id": "acab610e",
   "metadata": {},
   "outputs": [
    {
     "data": {
      "text/plain": [
       "['4fUKE8EULjQdHF4zb0M8FO', '2RnPATK99oGOZygnD2GTO6']"
      ]
     },
     "execution_count": 29,
     "metadata": {},
     "output_type": "execute_result"
    }
   ],
   "source": [
    "track_ids[0:2]"
   ]
  },
  {
   "cell_type": "code",
   "execution_count": 30,
   "id": "2d0a53a8",
   "metadata": {},
   "outputs": [],
   "source": [
    "#endpoint\n",
    "#https://api.spotify.com/v1/audio-features/{id}"
   ]
  },
  {
   "cell_type": "code",
   "execution_count": 31,
   "id": "f0eae79a",
   "metadata": {},
   "outputs": [],
   "source": [
    "#test \n",
    "url = 'https://api.spotify.com/v1/audio-features/0QLyr8xasb6tgGkdPWYw8d'"
   ]
  },
  {
   "cell_type": "code",
   "execution_count": 32,
   "id": "3c75fbad",
   "metadata": {},
   "outputs": [
    {
     "data": {
      "text/plain": [
       "<Response [200]>"
      ]
     },
     "execution_count": 32,
     "metadata": {},
     "output_type": "execute_result"
    }
   ],
   "source": [
    "res = rq.get(url, headers = headers)\n",
    "res"
   ]
  },
  {
   "cell_type": "code",
   "execution_count": 33,
   "id": "81b14947",
   "metadata": {},
   "outputs": [
    {
     "data": {
      "text/plain": [
       "dict"
      ]
     },
     "execution_count": 33,
     "metadata": {},
     "output_type": "execute_result"
    }
   ],
   "source": [
    "resjson = res.json()\n",
    "type(resjson)"
   ]
  },
  {
   "cell_type": "code",
   "execution_count": 34,
   "id": "0b72a406",
   "metadata": {},
   "outputs": [
    {
     "data": {
      "text/plain": [
       "dict_keys(['danceability', 'energy', 'key', 'loudness', 'mode', 'speechiness', 'acousticness', 'instrumentalness', 'liveness', 'valence', 'tempo', 'type', 'id', 'uri', 'track_href', 'analysis_url', 'duration_ms', 'time_signature'])"
      ]
     },
     "execution_count": 34,
     "metadata": {},
     "output_type": "execute_result"
    }
   ],
   "source": [
    "resjson.keys()"
   ]
  },
  {
   "cell_type": "code",
   "execution_count": 35,
   "id": "cc19e432",
   "metadata": {},
   "outputs": [
    {
     "data": {
      "text/plain": [
       "0.42"
      ]
     },
     "execution_count": 35,
     "metadata": {},
     "output_type": "execute_result"
    }
   ],
   "source": [
    "resjson['danceability']"
   ]
  },
  {
   "cell_type": "code",
   "execution_count": 36,
   "id": "bb2f4218",
   "metadata": {},
   "outputs": [],
   "source": [
    "# Construct a list of URLs for querying track audio features\n",
    "track_urls = [f'https://api.spotify.com/v1/audio-features/{track_id}' for track_id in track_ids]\n",
    "\n",
    "# Create a list of dictionaries with track information and corresponding feature URLs\n",
    "track_url_list = [{'track_id': track_id, 'url': url} for track_id, url in zip(track_ids, track_urls)]"
   ]
  },
  {
   "cell_type": "code",
   "execution_count": 37,
   "id": "0b428f60",
   "metadata": {},
   "outputs": [
    {
     "data": {
      "text/plain": [
       "[{'track_id': '4fUKE8EULjQdHF4zb0M8FO',\n",
       "  'url': 'https://api.spotify.com/v1/audio-features/4fUKE8EULjQdHF4zb0M8FO'},\n",
       " {'track_id': '2RnPATK99oGOZygnD2GTO6',\n",
       "  'url': 'https://api.spotify.com/v1/audio-features/2RnPATK99oGOZygnD2GTO6'},\n",
       " {'track_id': '25yQPHgC35WNnnOUqFhgVR',\n",
       "  'url': 'https://api.spotify.com/v1/audio-features/25yQPHgC35WNnnOUqFhgVR'}]"
      ]
     },
     "execution_count": 37,
     "metadata": {},
     "output_type": "execute_result"
    }
   ],
   "source": [
    "track_url_list[0:3]"
   ]
  },
  {
   "cell_type": "code",
   "execution_count": null,
   "id": "c405078f",
   "metadata": {},
   "outputs": [
    {
     "name": "stdout",
     "output_type": "stream",
     "text": [
      "An error occurred: 429 Client Error: Too Many Requests for url: https://api.spotify.com/v1/audio-features/0i19MAZbyn8uTir7FprXId\n",
      "An error occurred: 429 Client Error: Too Many Requests for url: https://api.spotify.com/v1/audio-features/3tA1FM2kIjrpHc6CF16kZR\n",
      "An error occurred: 429 Client Error: Too Many Requests for url: https://api.spotify.com/v1/audio-features/0TvF2UvMaTwhwU1TQEEMM1\n",
      "An error occurred: 429 Client Error: Too Many Requests for url: https://api.spotify.com/v1/audio-features/3xw7GH0FzWoQ7iThOLwGTs\n",
      "An error occurred: 429 Client Error: Too Many Requests for url: https://api.spotify.com/v1/audio-features/6nX6a7XFWRPMfaBea5WIxl\n",
      "An error occurred: 429 Client Error: Too Many Requests for url: https://api.spotify.com/v1/audio-features/5JsRKy7QzCDnpK7GCPfUS0\n",
      "An error occurred: 429 Client Error: Too Many Requests for url: https://api.spotify.com/v1/audio-features/3XWHY4VhsoaaZLbtkc30ok\n",
      "An error occurred: 429 Client Error: Too Many Requests for url: https://api.spotify.com/v1/audio-features/0oJXF6lAJxQ540X6ab4LYS\n",
      "An error occurred: 429 Client Error: Too Many Requests for url: https://api.spotify.com/v1/audio-features/2bWGAdo5iyrL7n0Ajl3kUB\n",
      "An error occurred: 429 Client Error: Too Many Requests for url: https://api.spotify.com/v1/audio-features/7alKxNRXhu6Z8SbxoadwKj\n",
      "An error occurred: 429 Client Error: Too Many Requests for url: https://api.spotify.com/v1/audio-features/2yioftHQzmdgXUXDBa0n3d\n",
      "An error occurred: 429 Client Error: Too Many Requests for url: https://api.spotify.com/v1/audio-features/37JISltgxizbDAyNEEqkTY\n",
      "An error occurred: 429 Client Error: Too Many Requests for url: https://api.spotify.com/v1/audio-features/7oDFvnqXkXuiZa1sACXobj\n"
     ]
    }
   ],
   "source": [
    "# List to store the retrieved track data\n",
    "track_data_list = []\n",
    "\n",
    "# Function to search and retrieve track information\n",
    "def search_track_info(track_url):\n",
    "    \n",
    "    time.sleep(0.9)  # Pause between queries to avoid getting banned\n",
    "\n",
    "    # Obtener el TOKEN\n",
    "\n",
    "    AUTH_URL = \"https://accounts.spotify.com/api/token\"\n",
    "\n",
    "    creds = {\"grant_type\": \"client_credentials\",\"client_id\": Client_ID,\"client_secret\": Client_secret}\n",
    "\n",
    "    response = rq.post(AUTH_URL, data=creds, headers={\"Content-Type\": \"application/x-www-form-urlencoded\"})\n",
    "\n",
    "    TOKEN = response.json()['access_token']\n",
    "\n",
    "    # Conexión con la API\n",
    "\n",
    "    url = \"https://api.spotify.com/\"\n",
    "    headers = {\"Authorization\": f'Bearer {TOKEN}'}\n",
    "\n",
    "    response = rq.get(url,headers=headers)\n",
    "    response\n",
    "    \n",
    "    try:\n",
    "        response = rq.get(track_url['url'], headers=headers)\n",
    "        response.raise_for_status()  # Check for request errors\n",
    "        data = response.json()\n",
    "\n",
    "        # Extract necessary data from the response\n",
    "        track_data_list.append({\n",
    "            'track_id': track_url['track_id'],\n",
    "            'danceability': data.get('danceability'),\n",
    "            'popularity': data.get('popularity'),\n",
    "            'energy': data.get('energy'),\n",
    "            'acousticness': data.get('acousticness'),\n",
    "            'valence': data.get('valence'),\n",
    "            'instrumentalness': data.get('instrumentalness'),\n",
    "            'tempo': data.get('tempo'),\n",
    "            'loudness': data.get('loudness')\n",
    "        })\n",
    "\n",
    "    except Exception as e:\n",
    "        print(f\"An error occurred: {e}\")\n",
    "        track_data_list.append({\n",
    "            'track_id': None,\n",
    "            'danceability': None,\n",
    "            'popularity': None,\n",
    "            'energy': None,\n",
    "            'acousticness': None,\n",
    "            'valence': None,\n",
    "            'instrumentalness': None,\n",
    "            'tempo': None,\n",
    "            'loudness': None\n",
    "        })\n",
    "\n",
    "# Execute the function for each track URL\n",
    "for track_url in track_url_list[1300:1700]:\n",
    "    search_track_info(track_url)\n",
    "\n",
    "# Create a DataFrame from the list of dictionaries\n",
    "data_tracks1300_1700 = pd.DataFrame(track_data_list)"
   ]
  },
  {
   "cell_type": "code",
   "execution_count": 39,
   "id": "a2d69af0",
   "metadata": {},
   "outputs": [],
   "source": [
    "#data_tracks0_30.head(1)"
   ]
  },
  {
   "cell_type": "code",
   "execution_count": 40,
   "id": "c7e368ce",
   "metadata": {},
   "outputs": [],
   "source": [
    "#data_tracks30_100.head(1)"
   ]
  },
  {
   "cell_type": "code",
   "execution_count": 41,
   "id": "fda89554",
   "metadata": {},
   "outputs": [],
   "source": [
    "#data_tracks100_200.head(1)"
   ]
  },
  {
   "cell_type": "code",
   "execution_count": 42,
   "id": "a543fc96",
   "metadata": {},
   "outputs": [],
   "source": [
    "#data_tracks200_400.head(1)"
   ]
  },
  {
   "cell_type": "code",
   "execution_count": 51,
   "id": "0962fb4d",
   "metadata": {},
   "outputs": [],
   "source": [
    "#data_tracks400_800.head(1)"
   ]
  },
  {
   "cell_type": "code",
   "execution_count": 55,
   "id": "160b05e8",
   "metadata": {},
   "outputs": [],
   "source": [
    "#data_tracks800_1300.head(1)"
   ]
  },
  {
   "cell_type": "code",
   "execution_count": null,
   "id": "d5cc76d2",
   "metadata": {},
   "outputs": [],
   "source": [
    "data_tracks1300_1700.head(1)"
   ]
  },
  {
   "cell_type": "code",
   "execution_count": 46,
   "id": "ddb35892",
   "metadata": {},
   "outputs": [],
   "source": [
    "#data_tracks0_30.to_csv('../data/clean/api_tracks2_clean_0_30.csv', index=False)"
   ]
  },
  {
   "cell_type": "code",
   "execution_count": null,
   "id": "d7cc4c11",
   "metadata": {},
   "outputs": [],
   "source": [
    "#data_tracks30_100.to_csv('../data/clean/api_tracks2_clean_30_100.csv', index=False)"
   ]
  },
  {
   "cell_type": "code",
   "execution_count": null,
   "id": "0f570bb5",
   "metadata": {},
   "outputs": [],
   "source": [
    "#data_tracks100_200.to_csv('../data/clean/api_tracks2_clean_100_200.csv', index=False)"
   ]
  },
  {
   "cell_type": "code",
   "execution_count": null,
   "id": "4da0165b",
   "metadata": {},
   "outputs": [],
   "source": [
    "#data_tracks200_400.to_csv('../data/clean/api_tracks2_clean_200_400.csv', index=False)#"
   ]
  },
  {
   "cell_type": "code",
   "execution_count": 50,
   "id": "d95fb4a5",
   "metadata": {},
   "outputs": [],
   "source": [
    "#data_tracks400_800.to_csv('../data/clean/api_tracks2_clean_400_800.csv', index=False)"
   ]
  },
  {
   "cell_type": "code",
   "execution_count": 54,
   "id": "d0e36d61",
   "metadata": {},
   "outputs": [],
   "source": [
    "#data_tracks800_1300.to_csv('../data/clean/api_tracks2_clean_800_1300.csv', index=False)"
   ]
  },
  {
   "cell_type": "code",
   "execution_count": null,
   "id": "fd54d3d7",
   "metadata": {},
   "outputs": [],
   "source": [
    "data_tracks1300_1700.to_csv('../data/clean/api_tracks2_clean_1300_1700.csv', index=False)"
   ]
  }
 ],
 "metadata": {
  "kernelspec": {
   "display_name": "clase",
   "language": "python",
   "name": "clase"
  },
  "language_info": {
   "codemirror_mode": {
    "name": "ipython",
    "version": 3
   },
   "file_extension": ".py",
   "mimetype": "text/x-python",
   "name": "python",
   "nbconvert_exporter": "python",
   "pygments_lexer": "ipython3",
   "version": "3.10.13"
  }
 },
 "nbformat": 4,
 "nbformat_minor": 5
}
