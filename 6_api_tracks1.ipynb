{
 "cells": [
  {
   "cell_type": "markdown",
   "id": "ebacb433",
   "metadata": {},
   "source": [
    "### Importing libraries"
   ]
  },
  {
   "cell_type": "code",
   "execution_count": 1,
   "id": "1e4976af",
   "metadata": {},
   "outputs": [],
   "source": [
    "import pandas as pd\n",
    "import numpy as np\n",
    "import time \n",
    "\n",
    "import warnings\n",
    "warnings.filterwarnings('ignore')\n",
    "\n",
    "pd.set_option('display.max_columns', None)  # me muestre todas las columnas\n",
    "#pd.set_option('display.max_rows', None)  # me muestre todas las filas"
   ]
  },
  {
   "cell_type": "markdown",
   "id": "9258ec38",
   "metadata": {},
   "source": [
    "### Getting target list "
   ]
  },
  {
   "cell_type": "code",
   "execution_count": 2,
   "id": "538599b8",
   "metadata": {},
   "outputs": [],
   "source": [
    "dataalbums = pd.read_csv('../data/clean/api_albums_clean.csv', encoding='latin1')"
   ]
  },
  {
   "cell_type": "code",
   "execution_count": 3,
   "id": "7dc272fd",
   "metadata": {},
   "outputs": [
    {
     "data": {
      "text/html": [
       "<div>\n",
       "<style scoped>\n",
       "    .dataframe tbody tr th:only-of-type {\n",
       "        vertical-align: middle;\n",
       "    }\n",
       "\n",
       "    .dataframe tbody tr th {\n",
       "        vertical-align: top;\n",
       "    }\n",
       "\n",
       "    .dataframe thead th {\n",
       "        text-align: right;\n",
       "    }\n",
       "</style>\n",
       "<table border=\"1\" class=\"dataframe\">\n",
       "  <thead>\n",
       "    <tr style=\"text-align: right;\">\n",
       "      <th></th>\n",
       "      <th>albumnamers</th>\n",
       "      <th>albumidspotify</th>\n",
       "      <th>albumnamespotify</th>\n",
       "      <th>artistnamespotify</th>\n",
       "      <th>artistidspotify</th>\n",
       "      <th>releasedate</th>\n",
       "      <th>totaltracks</th>\n",
       "    </tr>\n",
       "  </thead>\n",
       "  <tbody>\n",
       "    <tr>\n",
       "      <th>0</th>\n",
       "      <td>Sgt. Pepper's Lonely Hearts Club Band</td>\n",
       "      <td>1x1jpjDbetGqX0IKCUIBNj</td>\n",
       "      <td>Sgt. Pepper's Lonely Hearts Club Band</td>\n",
       "      <td>Bloco do Sargento Pimenta</td>\n",
       "      <td>3wGWCP3E3tYqj5memYV9Vq</td>\n",
       "      <td>2017-12-08</td>\n",
       "      <td>13.0</td>\n",
       "    </tr>\n",
       "    <tr>\n",
       "      <th>1</th>\n",
       "      <td>Pet Sounds</td>\n",
       "      <td>2CNEkSE8TADXRT2AzcEt1b</td>\n",
       "      <td>Pet Sounds</td>\n",
       "      <td>The Beach Boys</td>\n",
       "      <td>3oDbviiivRWhXwIE8hxkVV</td>\n",
       "      <td>1966-05-16</td>\n",
       "      <td>13.0</td>\n",
       "    </tr>\n",
       "  </tbody>\n",
       "</table>\n",
       "</div>"
      ],
      "text/plain": [
       "                             albumnamers          albumidspotify  \\\n",
       "0  Sgt. Pepper's Lonely Hearts Club Band  1x1jpjDbetGqX0IKCUIBNj   \n",
       "1                             Pet Sounds  2CNEkSE8TADXRT2AzcEt1b   \n",
       "\n",
       "                        albumnamespotify          artistnamespotify  \\\n",
       "0  Sgt. Pepper's Lonely Hearts Club Band  Bloco do Sargento Pimenta   \n",
       "1                             Pet Sounds             The Beach Boys   \n",
       "\n",
       "          artistidspotify releasedate  totaltracks  \n",
       "0  3wGWCP3E3tYqj5memYV9Vq  2017-12-08         13.0  \n",
       "1  3oDbviiivRWhXwIE8hxkVV  1966-05-16         13.0  "
      ]
     },
     "execution_count": 3,
     "metadata": {},
     "output_type": "execute_result"
    }
   ],
   "source": [
    "dataalbums.head(2)"
   ]
  },
  {
   "cell_type": "code",
   "execution_count": 4,
   "id": "449516f7",
   "metadata": {},
   "outputs": [],
   "source": [
    "artist_ids = dataalbums['artistidspotify'].unique().tolist()"
   ]
  },
  {
   "cell_type": "code",
   "execution_count": 5,
   "id": "9164dda7",
   "metadata": {},
   "outputs": [
    {
     "data": {
      "text/plain": [
       "['3wGWCP3E3tYqj5memYV9Vq', '3oDbviiivRWhXwIE8hxkVV']"
      ]
     },
     "execution_count": 5,
     "metadata": {},
     "output_type": "execute_result"
    }
   ],
   "source": [
    "artist_ids[0:2]"
   ]
  },
  {
   "cell_type": "markdown",
   "id": "afe829e4",
   "metadata": {},
   "source": [
    "### Spotify Connection "
   ]
  },
  {
   "cell_type": "code",
   "execution_count": 6,
   "id": "1fc27d37",
   "metadata": {},
   "outputs": [],
   "source": [
    "#%pip install pyarrow\n",
    "#%pip install joblib\n",
    "#%pip install tqdm\n",
    "#%pip install spotipy\n",
    "#%pip install python-dotenv\n",
    "#%pip install requests "
   ]
  },
  {
   "cell_type": "code",
   "execution_count": 7,
   "id": "a163f66c",
   "metadata": {},
   "outputs": [],
   "source": [
    "import requests as rq\n",
    "import pyarrow\n",
    "from joblib import Parallel, delayed\n",
    "from tqdm import tqdm\n",
    "import pymongo\n",
    "from passwords import *"
   ]
  },
  {
   "cell_type": "code",
   "execution_count": 47,
   "id": "8e634c8c",
   "metadata": {},
   "outputs": [
    {
     "data": {
      "text/plain": [
       "<Response [200]>"
      ]
     },
     "execution_count": 47,
     "metadata": {},
     "output_type": "execute_result"
    }
   ],
   "source": [
    "# Obtener el TOKEN\n",
    "\n",
    "AUTH_URL = \"https://accounts.spotify.com/api/token\"\n",
    "\n",
    "creds = {\n",
    "    \"grant_type\": \"client_credentials\",\n",
    "    \"client_id\": Client_ID,\n",
    "    \"client_secret\": Client_secret\n",
    "}\n",
    "\n",
    "response = rq.post(AUTH_URL, \n",
    "                         data=creds, \n",
    "                         headers={\"Content-Type\": \"application/x-www-form-urlencoded\"})\n",
    "\n",
    "\n",
    "TOKEN = response.json()['access_token']\n",
    "\n",
    "# Conexión con la API\n",
    "\n",
    "url = \"https://api.spotify.com/\"\n",
    "\n",
    "headers = {\"Authorization\": f'Bearer {TOKEN}'}\n",
    "\n",
    "response = rq.get(url,headers=headers)\n",
    "response"
   ]
  },
  {
   "cell_type": "markdown",
   "id": "7bed4bf5",
   "metadata": {},
   "source": [
    "### Getting Tracks Information "
   ]
  },
  {
   "cell_type": "code",
   "execution_count": 48,
   "id": "c87a543a",
   "metadata": {},
   "outputs": [],
   "source": [
    "album_ids = dataalbums['albumidspotify'].unique().tolist()"
   ]
  },
  {
   "cell_type": "code",
   "execution_count": 49,
   "id": "acab610e",
   "metadata": {},
   "outputs": [
    {
     "data": {
      "text/plain": [
       "['1x1jpjDbetGqX0IKCUIBNj', '2CNEkSE8TADXRT2AzcEt1b', '0T1sskJDoybYGvPU5aw5Cf']"
      ]
     },
     "execution_count": 49,
     "metadata": {},
     "output_type": "execute_result"
    }
   ],
   "source": [
    "album_ids[0:3]"
   ]
  },
  {
   "cell_type": "code",
   "execution_count": 50,
   "id": "2d0a53a8",
   "metadata": {},
   "outputs": [],
   "source": [
    "#endpoint\n",
    "#https://api.spotify.com/v1/albums/{id}/tracks"
   ]
  },
  {
   "cell_type": "code",
   "execution_count": 51,
   "id": "24527b13",
   "metadata": {},
   "outputs": [],
   "source": [
    "#test \n",
    "url = 'https://api.spotify.com/v1/albums/1x1jpjDbetGqX0IKCUIBNj/tracks'"
   ]
  },
  {
   "cell_type": "code",
   "execution_count": 58,
   "id": "b1fed5c5",
   "metadata": {},
   "outputs": [],
   "source": [
    "response = rq.get(url, headers=headers)"
   ]
  },
  {
   "cell_type": "code",
   "execution_count": 59,
   "id": "dd541c67",
   "metadata": {},
   "outputs": [],
   "source": [
    "responsejson = response.json()"
   ]
  },
  {
   "cell_type": "code",
   "execution_count": 60,
   "id": "e723b4ce",
   "metadata": {},
   "outputs": [
    {
     "data": {
      "text/plain": [
       "dict"
      ]
     },
     "execution_count": 60,
     "metadata": {},
     "output_type": "execute_result"
    }
   ],
   "source": [
    "type(responsejson)"
   ]
  },
  {
   "cell_type": "code",
   "execution_count": 63,
   "id": "fd349c3f",
   "metadata": {},
   "outputs": [
    {
     "data": {
      "text/plain": [
       "dict_keys(['href', 'items', 'limit', 'next', 'offset', 'previous', 'total'])"
      ]
     },
     "execution_count": 63,
     "metadata": {},
     "output_type": "execute_result"
    }
   ],
   "source": [
    "responsejson.keys()"
   ]
  },
  {
   "cell_type": "code",
   "execution_count": 68,
   "id": "31ef683a",
   "metadata": {},
   "outputs": [
    {
     "data": {
      "text/plain": [
       "dict_keys(['artists', 'available_markets', 'disc_number', 'duration_ms', 'explicit', 'external_urls', 'href', 'id', 'is_local', 'name', 'preview_url', 'track_number', 'type', 'uri'])"
      ]
     },
     "execution_count": 68,
     "metadata": {},
     "output_type": "execute_result"
    }
   ],
   "source": [
    "responsejson['items'][0]"
   ]
  },
  {
   "cell_type": "code",
   "execution_count": null,
   "id": "88291e0f",
   "metadata": {},
   "outputs": [],
   "source": []
  },
  {
   "cell_type": "code",
   "execution_count": 69,
   "id": "76092db4",
   "metadata": {},
   "outputs": [],
   "source": [
    "# Construct a list of URLs for querying track information\n",
    "track_urls = [f'https://api.spotify.com/v1/albums/{album_id}/tracks' for album_id in album_ids]\n",
    "\n",
    "# Create a list of dictionaries with album information and corresponding URLs\n",
    "track_url_list = [{'album_id': album_id, 'url': url} for album_id, url in zip(album_ids, track_urls)]"
   ]
  },
  {
   "cell_type": "code",
   "execution_count": 73,
   "id": "c405078f",
   "metadata": {},
   "outputs": [],
   "source": [
    "# List to store the retrieved track data\n",
    "track_data_list = []\n",
    "\n",
    "# Function to search and retrieve track information\n",
    "def search_track_info(track_url):\n",
    "    try:\n",
    "        response = rq.get(track_url['url'], headers=headers)\n",
    "        response.raise_for_status()  # Check for request errors\n",
    "        data = response.json()\n",
    "\n",
    "        for track in data['items']:\n",
    "            track_data_list.append({\n",
    "                'track_id': track['id'],\n",
    "                'track_name': track['name'],\n",
    "                'album_id': track_url['album_id'],\n",
    "                'artist_id': track['artists'][0]['id'],\n",
    "                'artist_name': track['artists'][0]['name']\n",
    "                # You can add more data points here that you want to fetch directly\n",
    "            })\n",
    "\n",
    "    except requests.exceptions.HTTPError as err:\n",
    "        print(f\"HTTP error occurred: {err}\")\n",
    "    except Exception as e:\n",
    "        print(f\"An error occurred: {e}\")\n",
    "        # Handle the error as needed\n",
    "\n",
    "# Execute the function for each track URL\n",
    "for track_url in track_url_list:\n",
    "    search_track_info(track_url)\n",
    "\n",
    "# Create a DataFrame from the list of dictionaries\n",
    "data_tracks = pd.DataFrame(track_data_list)"
   ]
  },
  {
   "cell_type": "code",
   "execution_count": 74,
   "id": "a2d69af0",
   "metadata": {},
   "outputs": [
    {
     "data": {
      "text/html": [
       "<div>\n",
       "<style scoped>\n",
       "    .dataframe tbody tr th:only-of-type {\n",
       "        vertical-align: middle;\n",
       "    }\n",
       "\n",
       "    .dataframe tbody tr th {\n",
       "        vertical-align: top;\n",
       "    }\n",
       "\n",
       "    .dataframe thead th {\n",
       "        text-align: right;\n",
       "    }\n",
       "</style>\n",
       "<table border=\"1\" class=\"dataframe\">\n",
       "  <thead>\n",
       "    <tr style=\"text-align: right;\">\n",
       "      <th></th>\n",
       "      <th>track_id</th>\n",
       "      <th>track_name</th>\n",
       "      <th>album_id</th>\n",
       "      <th>artist_id</th>\n",
       "      <th>artist_name</th>\n",
       "    </tr>\n",
       "  </thead>\n",
       "  <tbody>\n",
       "    <tr>\n",
       "      <th>0</th>\n",
       "      <td>4ZY1RPoLfezEqu03BI2axd</td>\n",
       "      <td>Sgt. Pepper's Lonely Hearts Club Band</td>\n",
       "      <td>1x1jpjDbetGqX0IKCUIBNj</td>\n",
       "      <td>3wGWCP3E3tYqj5memYV9Vq</td>\n",
       "      <td>Bloco do Sargento Pimenta</td>\n",
       "    </tr>\n",
       "    <tr>\n",
       "      <th>1</th>\n",
       "      <td>0QLyr8xasb6tgGkdPWYw8d</td>\n",
       "      <td>With a Little Help From My Friends</td>\n",
       "      <td>1x1jpjDbetGqX0IKCUIBNj</td>\n",
       "      <td>3wGWCP3E3tYqj5memYV9Vq</td>\n",
       "      <td>Bloco do Sargento Pimenta</td>\n",
       "    </tr>\n",
       "    <tr>\n",
       "      <th>2</th>\n",
       "      <td>1YFlTlQHKR62Sh39ctI7jX</td>\n",
       "      <td>Lucy in the Sky with Diamonds</td>\n",
       "      <td>1x1jpjDbetGqX0IKCUIBNj</td>\n",
       "      <td>3wGWCP3E3tYqj5memYV9Vq</td>\n",
       "      <td>Bloco do Sargento Pimenta</td>\n",
       "    </tr>\n",
       "    <tr>\n",
       "      <th>3</th>\n",
       "      <td>1aBpFQAum7vESFuNnWeZZI</td>\n",
       "      <td>Getting Better</td>\n",
       "      <td>1x1jpjDbetGqX0IKCUIBNj</td>\n",
       "      <td>3wGWCP3E3tYqj5memYV9Vq</td>\n",
       "      <td>Bloco do Sargento Pimenta</td>\n",
       "    </tr>\n",
       "    <tr>\n",
       "      <th>4</th>\n",
       "      <td>2OePklaMhBp1kCbbTq5UVk</td>\n",
       "      <td>Fixing a Hole</td>\n",
       "      <td>1x1jpjDbetGqX0IKCUIBNj</td>\n",
       "      <td>3wGWCP3E3tYqj5memYV9Vq</td>\n",
       "      <td>Bloco do Sargento Pimenta</td>\n",
       "    </tr>\n",
       "  </tbody>\n",
       "</table>\n",
       "</div>"
      ],
      "text/plain": [
       "                 track_id                             track_name  \\\n",
       "0  4ZY1RPoLfezEqu03BI2axd  Sgt. Pepper's Lonely Hearts Club Band   \n",
       "1  0QLyr8xasb6tgGkdPWYw8d     With a Little Help From My Friends   \n",
       "2  1YFlTlQHKR62Sh39ctI7jX          Lucy in the Sky with Diamonds   \n",
       "3  1aBpFQAum7vESFuNnWeZZI                         Getting Better   \n",
       "4  2OePklaMhBp1kCbbTq5UVk                          Fixing a Hole   \n",
       "\n",
       "                 album_id               artist_id                artist_name  \n",
       "0  1x1jpjDbetGqX0IKCUIBNj  3wGWCP3E3tYqj5memYV9Vq  Bloco do Sargento Pimenta  \n",
       "1  1x1jpjDbetGqX0IKCUIBNj  3wGWCP3E3tYqj5memYV9Vq  Bloco do Sargento Pimenta  \n",
       "2  1x1jpjDbetGqX0IKCUIBNj  3wGWCP3E3tYqj5memYV9Vq  Bloco do Sargento Pimenta  \n",
       "3  1x1jpjDbetGqX0IKCUIBNj  3wGWCP3E3tYqj5memYV9Vq  Bloco do Sargento Pimenta  \n",
       "4  1x1jpjDbetGqX0IKCUIBNj  3wGWCP3E3tYqj5memYV9Vq  Bloco do Sargento Pimenta  "
      ]
     },
     "execution_count": 74,
     "metadata": {},
     "output_type": "execute_result"
    }
   ],
   "source": [
    "data_tracks.head()"
   ]
  },
  {
   "cell_type": "code",
   "execution_count": 76,
   "id": "08b31b16",
   "metadata": {},
   "outputs": [
    {
     "data": {
      "text/plain": [
       "(4818, 5)"
      ]
     },
     "execution_count": 76,
     "metadata": {},
     "output_type": "execute_result"
    }
   ],
   "source": [
    "data_tracks.shape"
   ]
  },
  {
   "cell_type": "code",
   "execution_count": 77,
   "id": "7be3dcf1",
   "metadata": {},
   "outputs": [],
   "source": [
    "data_tracks.to_csv('../data/clean/api_tracks1_clean.csv', index=False)"
   ]
  }
 ],
 "metadata": {
  "kernelspec": {
   "display_name": "clase",
   "language": "python",
   "name": "clase"
  },
  "language_info": {
   "codemirror_mode": {
    "name": "ipython",
    "version": 3
   },
   "file_extension": ".py",
   "mimetype": "text/x-python",
   "name": "python",
   "nbconvert_exporter": "python",
   "pygments_lexer": "ipython3",
   "version": "3.10.13"
  }
 },
 "nbformat": 4,
 "nbformat_minor": 5
}
